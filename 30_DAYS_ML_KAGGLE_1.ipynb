{
 "cells": [
  {
   "cell_type": "code",
   "execution_count": 1,
   "metadata": {},
   "outputs": [
    {
     "name": "stdout",
     "output_type": "stream",
     "text": [
      "\f",
      "\n"
     ]
    }
   ],
   "source": [
    "try:\n",
    "    from IPython import get_ipython\n",
    "    get_ipython().magic('clear')\n",
    "    get_ipython().magic('reset -f')\n",
    "except:\n",
    "    pass"
   ]
  },
  {
   "cell_type": "code",
   "execution_count": 2,
   "metadata": {},
   "outputs": [],
   "source": [
    "#Importing all the required libraries\n",
    "import pandas as pd\n",
    "import numpy as np\n",
    "import matplotlib.pyplot as plt\n",
    "%matplotlib inline\n",
    "import seaborn as sns\n",
    "\n",
    "#To ignore the warnings \n",
    "import warnings as wg\n",
    "wg.filterwarnings(\"ignore\")"
   ]
  },
  {
   "cell_type": "code",
   "execution_count": 3,
   "metadata": {},
   "outputs": [],
   "source": [
    "#Read the dataset file of train data\n",
    "train=pd.read_csv(\"train.csv\")\n",
    "#Read the dataset file of test data\n",
    "test=pd.read_csv(\"test.csv\")"
   ]
  },
  {
   "cell_type": "code",
   "execution_count": 4,
   "metadata": {},
   "outputs": [
    {
     "data": {
      "text/plain": [
       "array([13, 14,  5, 10, 12,  8,  6,  7, 11,  1,  0,  9,  3,  2,  4],\n",
       "      dtype=int64)"
      ]
     },
     "execution_count": 4,
     "metadata": {},
     "output_type": "execute_result"
    }
   ],
   "source": [
    "train['cat0'].replace({'B':1,'A':0},inplace=True)\n",
    "train.cat0.unique()\n",
    "\n",
    "train['cat1'].replace({'B':1,'A':0},inplace=True)\n",
    "train.cat1.unique()\n",
    "train['cat2'].replace({'B':1,'A':0},inplace=True)\n",
    "train.cat2.unique()\n",
    "train['cat3'].replace({'D':3,'C':2,'B':1,'A':0},inplace=True)\n",
    "train.cat3.unique()\n",
    "train['cat4'].replace({'D':3,'C':2,'B':1,'A':0},inplace=True)\n",
    "train.cat4.unique()\n",
    "train['cat5'].replace({'D':3,'C':2,'B':1,'A':0},inplace=True)\n",
    "train.cat5.unique()\n",
    "train['cat6'].replace({'E':4, 'H':7, 'D':3, 'B':1, 'G':6, 'C':2, 'A':0, 'I':8},inplace=True)\n",
    "train.cat6.unique()\n",
    "train['cat7'].replace({'E':4, 'F':5, 'D':3, 'B':1, 'G':6, 'C':2, 'A':0, 'I':8},inplace=True)\n",
    "train.cat7.unique()\n",
    "train['cat8'].replace({'C':2, 'A':0,'G':6, 'E':4, 'F':5, 'D':3, 'B':1},inplace=True)\n",
    "train.cat8.unique()\n",
    "train['cat9'].replace({'N':13, 'O':14, 'F':5, 'K':10, 'M':12, 'I':8, 'G':6, 'H':7,'L':11, 'B':1, 'A':0, 'J':9, 'D':3, 'C':2 ,'E':4},inplace=True)\n",
    "train.cat9.unique()"
   ]
  },
  {
   "cell_type": "code",
   "execution_count": 11,
   "metadata": {},
   "outputs": [],
   "source": [
    "#Split the data into independent 'X' and dependent 'Y' variables\n",
    "X = train.iloc[:, 1:train.shape[1]].values \n",
    "Y = train.iloc[:, 0].values\n",
    "# Split the dataset into 75% Training set and 25% Testing set\n",
    "from sklearn.model_selection import train_test_split\n",
    "X_train, X_test, Y_train, Y_test = train_test_split(X, Y, test_size = 0.25, random_state = 0)"
   ]
  },
  {
   "cell_type": "code",
   "execution_count": null,
   "metadata": {},
   "outputs": [],
   "source": [
    "#Use Random Forest Classification algorithm\n",
    "from sklearn.ensemble import RandomForestClassifier\n",
    "rf = RandomForestClassifier(n_estimators = 10, criterion = 'entropy', random_state = 0)\n",
    "rf.fit(X_train,Y_train)"
   ]
  },
  {
   "cell_type": "code",
   "execution_count": null,
   "metadata": {},
   "outputs": [],
   "source": [
    "rf.score(X_train, Y_train)"
   ]
  }
 ],
 "metadata": {
  "kernelspec": {
   "display_name": "Python 3",
   "language": "python",
   "name": "python3"
  },
  "language_info": {
   "codemirror_mode": {
    "name": "ipython",
    "version": 3
   },
   "file_extension": ".py",
   "mimetype": "text/x-python",
   "name": "python",
   "nbconvert_exporter": "python",
   "pygments_lexer": "ipython3",
   "version": "3.8.5"
  }
 },
 "nbformat": 4,
 "nbformat_minor": 4
}
