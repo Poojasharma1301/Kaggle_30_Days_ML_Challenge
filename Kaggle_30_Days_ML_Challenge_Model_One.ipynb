{
  "nbformat": 4,
  "nbformat_minor": 0,
  "metadata": {
    "accelerator": "GPU",
    "colab": {
      "name": "Kaggle_30_Days_ML_Challenge_Model_One.ipynb",
      "provenance": []
    },
    "kernelspec": {
      "display_name": "Python 3",
      "name": "python3"
    },
    "language_info": {
      "name": "python"
    }
  },
  "cells": [
    {
      "cell_type": "code",
      "metadata": {
        "colab": {
          "base_uri": "https://localhost:8080/"
        },
        "id": "DC0JvioVxNpQ",
        "outputId": "d3ae5e4d-aaad-4712-ae39-6a73853e9c96"
      },
      "source": [
        "try:\n",
        "    from IPython import get_ipython\n",
        "    get_ipython().magic('clear')\n",
        "    get_ipython().magic('reset -f')\n",
        "except:\n",
        "    pass"
      ],
      "execution_count": 1,
      "outputs": [
        {
          "output_type": "stream",
          "text": [
            "\u001b[H\u001b[2J"
          ],
          "name": "stdout"
        }
      ]
    },
    {
      "cell_type": "code",
      "metadata": {
        "id": "iikPYzVPy0Mr"
      },
      "source": [
        "import pandas as pd\n",
        "import numpy as np\n",
        "import sqlite3\n",
        "from sqlalchemy import create_engine\n",
        "import matplotlib.pyplot as plt\n",
        "%matplotlib inline\n",
        "import seaborn as sns\n",
        "\n",
        "#To ignore the warnings \n",
        "import warnings as wg\n",
        "wg.filterwarnings(\"ignore\")"
      ],
      "execution_count": 2,
      "outputs": []
    },
    {
      "cell_type": "code",
      "metadata": {
        "id": "ObNYEgniy269"
      },
      "source": [
        "from google.colab import drive"
      ],
      "execution_count": 3,
      "outputs": []
    },
    {
      "cell_type": "code",
      "metadata": {
        "colab": {
          "base_uri": "https://localhost:8080/"
        },
        "id": "ZIWLKQmzy5k_",
        "outputId": "34f7ccac-bb07-47bc-b5ea-b66395a25db9"
      },
      "source": [
        "drive.mount('/content/drive')"
      ],
      "execution_count": 4,
      "outputs": [
        {
          "output_type": "stream",
          "text": [
            "Drive already mounted at /content/drive; to attempt to forcibly remount, call drive.mount(\"/content/drive\", force_remount=True).\n"
          ],
          "name": "stdout"
        }
      ]
    },
    {
      "cell_type": "code",
      "metadata": {
        "id": "fVqcdgUcy9DO"
      },
      "source": [
        "import pandas as pd\n",
        "from sklearn.model_selection import train_test_split\n",
        "\n",
        "# Read the data\n",
        "train = pd.read_csv('/content/drive/MyDrive/train.csv')\n",
        "test = pd.read_csv('/content/drive/MyDrive/test.csv')"
      ],
      "execution_count": 5,
      "outputs": []
    },
    {
      "cell_type": "code",
      "metadata": {
        "id": "fZBBk6cE020n",
        "colab": {
          "base_uri": "https://localhost:8080/"
        },
        "outputId": "d1f578d7-2a68-458f-e316-74627d9a143d"
      },
      "source": [
        "train['cat0'].replace({'B':1,'A':0},inplace=True)\n",
        "train.cat0.unique()\n",
        "train['cat1'].replace({'B':1,'A':0},inplace=True)\n",
        "train.cat1.unique()\n",
        "train['cat2'].replace({'B':1,'A':0},inplace=True)\n",
        "train.cat2.unique()\n",
        "train['cat3'].replace({'D':3,'C':2,'B':1,'A':0},inplace=True)\n",
        "train.cat3.unique()\n",
        "train['cat4'].replace({'D':3,'C':2,'B':1,'A':0},inplace=True)\n",
        "train.cat4.unique()\n",
        "train['cat5'].replace({'D':3,'C':2,'B':1,'A':0},inplace=True)\n",
        "train.cat5.unique()\n",
        "train['cat6'].replace({'E':4, 'H':7, 'D':3, 'B':1, 'G':6, 'C':2, 'A':0, 'I':8},inplace=True)\n",
        "train.cat6.unique()\n",
        "train['cat7'].replace({'E':4, 'F':5, 'D':3, 'B':1, 'G':6, 'C':2, 'A':0, 'I':8},inplace=True)\n",
        "train.cat7.unique()\n",
        "train['cat8'].replace({'C':2, 'A':0,'G':6, 'E':4, 'F':5, 'D':3, 'B':1},inplace=True)\n",
        "train.cat8.unique()\n",
        "train['cat9'].replace({'N':13, 'O':14, 'F':5, 'K':10, 'M':12, 'I':8, 'G':6, 'H':7,'L':11, 'B':1, 'A':0, 'J':9, 'D':3, 'C':2 ,'E':4},inplace=True)\n",
        "train.cat9.unique()"
      ],
      "execution_count": 6,
      "outputs": [
        {
          "output_type": "execute_result",
          "data": {
            "text/plain": [
              "array([13, 14,  5, 10, 12,  8,  6,  7, 11,  1,  0,  9,  3,  2,  4])"
            ]
          },
          "metadata": {},
          "execution_count": 6
        }
      ]
    },
    {
      "cell_type": "code",
      "metadata": {
        "id": "YCc0sqiP5LSN",
        "colab": {
          "base_uri": "https://localhost:8080/"
        },
        "outputId": "8af10fd8-343d-40b3-deb9-763290f3f6e8"
      },
      "source": [
        "train.shape"
      ],
      "execution_count": 7,
      "outputs": [
        {
          "output_type": "execute_result",
          "data": {
            "text/plain": [
              "(300000, 26)"
            ]
          },
          "metadata": {},
          "execution_count": 7
        }
      ]
    },
    {
      "cell_type": "code",
      "metadata": {
        "id": "6OOM9ea55Oex",
        "colab": {
          "base_uri": "https://localhost:8080/"
        },
        "outputId": "29f8f0d7-b41e-4bef-eb02-7ecac42bc726"
      },
      "source": [
        "test.shape"
      ],
      "execution_count": 8,
      "outputs": [
        {
          "output_type": "execute_result",
          "data": {
            "text/plain": [
              "(200000, 25)"
            ]
          },
          "metadata": {},
          "execution_count": 8
        }
      ]
    },
    {
      "cell_type": "code",
      "metadata": {
        "id": "P1bHzEh_5PY4",
        "colab": {
          "base_uri": "https://localhost:8080/",
          "height": 224
        },
        "outputId": "1b4ecf1f-0a78-4474-dee4-a9b2715879cb"
      },
      "source": [
        "train.head()"
      ],
      "execution_count": 9,
      "outputs": [
        {
          "output_type": "execute_result",
          "data": {
            "text/html": [
              "<div>\n",
              "<style scoped>\n",
              "    .dataframe tbody tr th:only-of-type {\n",
              "        vertical-align: middle;\n",
              "    }\n",
              "\n",
              "    .dataframe tbody tr th {\n",
              "        vertical-align: top;\n",
              "    }\n",
              "\n",
              "    .dataframe thead th {\n",
              "        text-align: right;\n",
              "    }\n",
              "</style>\n",
              "<table border=\"1\" class=\"dataframe\">\n",
              "  <thead>\n",
              "    <tr style=\"text-align: right;\">\n",
              "      <th></th>\n",
              "      <th>id</th>\n",
              "      <th>cat0</th>\n",
              "      <th>cat1</th>\n",
              "      <th>cat2</th>\n",
              "      <th>cat3</th>\n",
              "      <th>cat4</th>\n",
              "      <th>cat5</th>\n",
              "      <th>cat6</th>\n",
              "      <th>cat7</th>\n",
              "      <th>cat8</th>\n",
              "      <th>cat9</th>\n",
              "      <th>cont0</th>\n",
              "      <th>cont1</th>\n",
              "      <th>cont2</th>\n",
              "      <th>cont3</th>\n",
              "      <th>cont4</th>\n",
              "      <th>cont5</th>\n",
              "      <th>cont6</th>\n",
              "      <th>cont7</th>\n",
              "      <th>cont8</th>\n",
              "      <th>cont9</th>\n",
              "      <th>cont10</th>\n",
              "      <th>cont11</th>\n",
              "      <th>cont12</th>\n",
              "      <th>cont13</th>\n",
              "      <th>target</th>\n",
              "    </tr>\n",
              "  </thead>\n",
              "  <tbody>\n",
              "    <tr>\n",
              "      <th>0</th>\n",
              "      <td>1</td>\n",
              "      <td>1</td>\n",
              "      <td>1</td>\n",
              "      <td>1</td>\n",
              "      <td>2</td>\n",
              "      <td>1</td>\n",
              "      <td>1</td>\n",
              "      <td>0</td>\n",
              "      <td>4</td>\n",
              "      <td>2</td>\n",
              "      <td>13</td>\n",
              "      <td>0.201470</td>\n",
              "      <td>-0.014822</td>\n",
              "      <td>0.669699</td>\n",
              "      <td>0.136278</td>\n",
              "      <td>0.610706</td>\n",
              "      <td>0.400361</td>\n",
              "      <td>0.160266</td>\n",
              "      <td>0.310921</td>\n",
              "      <td>0.389470</td>\n",
              "      <td>0.267559</td>\n",
              "      <td>0.237281</td>\n",
              "      <td>0.377873</td>\n",
              "      <td>0.322401</td>\n",
              "      <td>0.869850</td>\n",
              "      <td>8.113634</td>\n",
              "    </tr>\n",
              "    <tr>\n",
              "      <th>1</th>\n",
              "      <td>2</td>\n",
              "      <td>1</td>\n",
              "      <td>1</td>\n",
              "      <td>0</td>\n",
              "      <td>0</td>\n",
              "      <td>1</td>\n",
              "      <td>3</td>\n",
              "      <td>0</td>\n",
              "      <td>5</td>\n",
              "      <td>0</td>\n",
              "      <td>14</td>\n",
              "      <td>0.743068</td>\n",
              "      <td>0.367411</td>\n",
              "      <td>1.021605</td>\n",
              "      <td>0.365798</td>\n",
              "      <td>0.276853</td>\n",
              "      <td>0.533087</td>\n",
              "      <td>0.558922</td>\n",
              "      <td>0.516294</td>\n",
              "      <td>0.594928</td>\n",
              "      <td>0.341439</td>\n",
              "      <td>0.906013</td>\n",
              "      <td>0.921701</td>\n",
              "      <td>0.261975</td>\n",
              "      <td>0.465083</td>\n",
              "      <td>8.481233</td>\n",
              "    </tr>\n",
              "    <tr>\n",
              "      <th>2</th>\n",
              "      <td>3</td>\n",
              "      <td>0</td>\n",
              "      <td>0</td>\n",
              "      <td>0</td>\n",
              "      <td>2</td>\n",
              "      <td>1</td>\n",
              "      <td>3</td>\n",
              "      <td>0</td>\n",
              "      <td>3</td>\n",
              "      <td>0</td>\n",
              "      <td>5</td>\n",
              "      <td>0.742708</td>\n",
              "      <td>0.310383</td>\n",
              "      <td>-0.012673</td>\n",
              "      <td>0.576957</td>\n",
              "      <td>0.285074</td>\n",
              "      <td>0.650609</td>\n",
              "      <td>0.375348</td>\n",
              "      <td>0.902567</td>\n",
              "      <td>0.555205</td>\n",
              "      <td>0.843531</td>\n",
              "      <td>0.748809</td>\n",
              "      <td>0.620126</td>\n",
              "      <td>0.541474</td>\n",
              "      <td>0.763846</td>\n",
              "      <td>8.364351</td>\n",
              "    </tr>\n",
              "    <tr>\n",
              "      <th>3</th>\n",
              "      <td>4</td>\n",
              "      <td>1</td>\n",
              "      <td>1</td>\n",
              "      <td>0</td>\n",
              "      <td>2</td>\n",
              "      <td>1</td>\n",
              "      <td>3</td>\n",
              "      <td>0</td>\n",
              "      <td>4</td>\n",
              "      <td>2</td>\n",
              "      <td>10</td>\n",
              "      <td>0.429551</td>\n",
              "      <td>0.620998</td>\n",
              "      <td>0.577942</td>\n",
              "      <td>0.280610</td>\n",
              "      <td>0.284667</td>\n",
              "      <td>0.668980</td>\n",
              "      <td>0.239061</td>\n",
              "      <td>0.732948</td>\n",
              "      <td>0.679618</td>\n",
              "      <td>0.574844</td>\n",
              "      <td>0.346010</td>\n",
              "      <td>0.714610</td>\n",
              "      <td>0.540150</td>\n",
              "      <td>0.280682</td>\n",
              "      <td>8.049253</td>\n",
              "    </tr>\n",
              "    <tr>\n",
              "      <th>4</th>\n",
              "      <td>6</td>\n",
              "      <td>0</td>\n",
              "      <td>0</td>\n",
              "      <td>0</td>\n",
              "      <td>2</td>\n",
              "      <td>1</td>\n",
              "      <td>3</td>\n",
              "      <td>0</td>\n",
              "      <td>4</td>\n",
              "      <td>0</td>\n",
              "      <td>13</td>\n",
              "      <td>1.058291</td>\n",
              "      <td>0.367492</td>\n",
              "      <td>-0.052389</td>\n",
              "      <td>0.232407</td>\n",
              "      <td>0.287595</td>\n",
              "      <td>0.686964</td>\n",
              "      <td>0.420667</td>\n",
              "      <td>0.648182</td>\n",
              "      <td>0.684501</td>\n",
              "      <td>0.956692</td>\n",
              "      <td>1.000773</td>\n",
              "      <td>0.776742</td>\n",
              "      <td>0.625849</td>\n",
              "      <td>0.250823</td>\n",
              "      <td>7.972260</td>\n",
              "    </tr>\n",
              "  </tbody>\n",
              "</table>\n",
              "</div>"
            ],
            "text/plain": [
              "   id  cat0  cat1  cat2  cat3  ...    cont10    cont11    cont12    cont13    target\n",
              "0   1     1     1     1     2  ...  0.237281  0.377873  0.322401  0.869850  8.113634\n",
              "1   2     1     1     0     0  ...  0.906013  0.921701  0.261975  0.465083  8.481233\n",
              "2   3     0     0     0     2  ...  0.748809  0.620126  0.541474  0.763846  8.364351\n",
              "3   4     1     1     0     2  ...  0.346010  0.714610  0.540150  0.280682  8.049253\n",
              "4   6     0     0     0     2  ...  1.000773  0.776742  0.625849  0.250823  7.972260\n",
              "\n",
              "[5 rows x 26 columns]"
            ]
          },
          "metadata": {},
          "execution_count": 9
        }
      ]
    },
    {
      "cell_type": "code",
      "metadata": {
        "id": "6nDqmewx5U8H",
        "colab": {
          "base_uri": "https://localhost:8080/"
        },
        "outputId": "9cc13057-1db3-4b13-9391-d1c025fe8def"
      },
      "source": [
        "test['cat0'].replace({'B':1,'A':0},inplace=True)\n",
        "test.cat0.unique()\n",
        "test['cat1'].replace({'B':1,'A':0},inplace=True)\n",
        "test.cat1.unique()\n",
        "test['cat2'].replace({'B':1,'A':0},inplace=True)\n",
        "test.cat2.unique()\n",
        "test['cat3'].replace({'D':3,'C':2,'B':1,'A':0},inplace=True)\n",
        "test.cat3.unique()\n",
        "test['cat4'].replace({'D':3,'C':2,'B':1,'A':0},inplace=True)\n",
        "test.cat4.unique()\n",
        "test['cat5'].replace({'D':3,'C':2,'B':1,'A':0},inplace=True)\n",
        "test.cat5.unique()\n",
        "test['cat6'].replace({'E':4, 'H':7, 'D':3, 'B':1, 'G':6, 'C':2, 'A':0, 'I':8},inplace=True)\n",
        "test.cat6.unique()\n",
        "test['cat7'].replace({'E':4, 'F':5, 'D':3, 'B':1, 'G':6, 'C':2, 'A':0, 'I':8},inplace=True)\n",
        "test.cat7.unique()\n",
        "test['cat8'].replace({'C':2, 'A':0,'G':6, 'E':4, 'F':5, 'D':3, 'B':1},inplace=True)\n",
        "test.cat8.unique()\n",
        "test['cat9'].replace({'N':13, 'O':14, 'F':5, 'K':10, 'M':12, 'I':8, 'G':6, 'H':7,'L':11, 'B':1, 'A':0, 'J':9, 'D':3, 'C':2 ,'E':4},inplace=True)\n",
        "test.cat9.unique()"
      ],
      "execution_count": 10,
      "outputs": [
        {
          "output_type": "execute_result",
          "data": {
            "text/plain": [
              "array([ 8,  7, 10, 13,  5,  6,  0,  9, 12,  1, 11,  2, 14,  4,  3])"
            ]
          },
          "metadata": {},
          "execution_count": 10
        }
      ]
    },
    {
      "cell_type": "code",
      "metadata": {
        "id": "yylGxNI-5Rej",
        "colab": {
          "base_uri": "https://localhost:8080/",
          "height": 224
        },
        "outputId": "e5aa2e35-2c4b-4800-9667-640c74867e21"
      },
      "source": [
        "test.head()"
      ],
      "execution_count": 11,
      "outputs": [
        {
          "output_type": "execute_result",
          "data": {
            "text/html": [
              "<div>\n",
              "<style scoped>\n",
              "    .dataframe tbody tr th:only-of-type {\n",
              "        vertical-align: middle;\n",
              "    }\n",
              "\n",
              "    .dataframe tbody tr th {\n",
              "        vertical-align: top;\n",
              "    }\n",
              "\n",
              "    .dataframe thead th {\n",
              "        text-align: right;\n",
              "    }\n",
              "</style>\n",
              "<table border=\"1\" class=\"dataframe\">\n",
              "  <thead>\n",
              "    <tr style=\"text-align: right;\">\n",
              "      <th></th>\n",
              "      <th>id</th>\n",
              "      <th>cat0</th>\n",
              "      <th>cat1</th>\n",
              "      <th>cat2</th>\n",
              "      <th>cat3</th>\n",
              "      <th>cat4</th>\n",
              "      <th>cat5</th>\n",
              "      <th>cat6</th>\n",
              "      <th>cat7</th>\n",
              "      <th>cat8</th>\n",
              "      <th>cat9</th>\n",
              "      <th>cont0</th>\n",
              "      <th>cont1</th>\n",
              "      <th>cont2</th>\n",
              "      <th>cont3</th>\n",
              "      <th>cont4</th>\n",
              "      <th>cont5</th>\n",
              "      <th>cont6</th>\n",
              "      <th>cont7</th>\n",
              "      <th>cont8</th>\n",
              "      <th>cont9</th>\n",
              "      <th>cont10</th>\n",
              "      <th>cont11</th>\n",
              "      <th>cont12</th>\n",
              "      <th>cont13</th>\n",
              "    </tr>\n",
              "  </thead>\n",
              "  <tbody>\n",
              "    <tr>\n",
              "      <th>0</th>\n",
              "      <td>0</td>\n",
              "      <td>1</td>\n",
              "      <td>1</td>\n",
              "      <td>1</td>\n",
              "      <td>2</td>\n",
              "      <td>1</td>\n",
              "      <td>1</td>\n",
              "      <td>0</td>\n",
              "      <td>4</td>\n",
              "      <td>4</td>\n",
              "      <td>8</td>\n",
              "      <td>0.296227</td>\n",
              "      <td>0.686757</td>\n",
              "      <td>0.587731</td>\n",
              "      <td>0.392753</td>\n",
              "      <td>0.476739</td>\n",
              "      <td>0.376350</td>\n",
              "      <td>0.337884</td>\n",
              "      <td>0.321832</td>\n",
              "      <td>0.445212</td>\n",
              "      <td>0.290258</td>\n",
              "      <td>0.244476</td>\n",
              "      <td>0.087914</td>\n",
              "      <td>0.301831</td>\n",
              "      <td>0.845702</td>\n",
              "    </tr>\n",
              "    <tr>\n",
              "      <th>1</th>\n",
              "      <td>5</td>\n",
              "      <td>0</td>\n",
              "      <td>1</td>\n",
              "      <td>0</td>\n",
              "      <td>2</td>\n",
              "      <td>1</td>\n",
              "      <td>2</td>\n",
              "      <td>0</td>\n",
              "      <td>4</td>\n",
              "      <td>2</td>\n",
              "      <td>7</td>\n",
              "      <td>0.543707</td>\n",
              "      <td>0.364761</td>\n",
              "      <td>0.452967</td>\n",
              "      <td>0.929645</td>\n",
              "      <td>0.285509</td>\n",
              "      <td>0.860046</td>\n",
              "      <td>0.798712</td>\n",
              "      <td>0.835961</td>\n",
              "      <td>0.391657</td>\n",
              "      <td>0.288276</td>\n",
              "      <td>0.549568</td>\n",
              "      <td>0.905097</td>\n",
              "      <td>0.850684</td>\n",
              "      <td>0.693940</td>\n",
              "    </tr>\n",
              "    <tr>\n",
              "      <th>2</th>\n",
              "      <td>15</td>\n",
              "      <td>1</td>\n",
              "      <td>0</td>\n",
              "      <td>0</td>\n",
              "      <td>0</td>\n",
              "      <td>1</td>\n",
              "      <td>1</td>\n",
              "      <td>0</td>\n",
              "      <td>4</td>\n",
              "      <td>3</td>\n",
              "      <td>10</td>\n",
              "      <td>0.408961</td>\n",
              "      <td>0.296129</td>\n",
              "      <td>0.690999</td>\n",
              "      <td>0.740027</td>\n",
              "      <td>0.697272</td>\n",
              "      <td>0.683600</td>\n",
              "      <td>0.404089</td>\n",
              "      <td>0.879379</td>\n",
              "      <td>0.275549</td>\n",
              "      <td>0.427871</td>\n",
              "      <td>0.491667</td>\n",
              "      <td>0.384315</td>\n",
              "      <td>0.376689</td>\n",
              "      <td>0.508099</td>\n",
              "    </tr>\n",
              "    <tr>\n",
              "      <th>3</th>\n",
              "      <td>16</td>\n",
              "      <td>1</td>\n",
              "      <td>1</td>\n",
              "      <td>0</td>\n",
              "      <td>2</td>\n",
              "      <td>1</td>\n",
              "      <td>3</td>\n",
              "      <td>0</td>\n",
              "      <td>4</td>\n",
              "      <td>0</td>\n",
              "      <td>13</td>\n",
              "      <td>1.031239</td>\n",
              "      <td>0.356062</td>\n",
              "      <td>0.303651</td>\n",
              "      <td>0.895591</td>\n",
              "      <td>0.719306</td>\n",
              "      <td>0.777890</td>\n",
              "      <td>0.730954</td>\n",
              "      <td>0.644315</td>\n",
              "      <td>1.024017</td>\n",
              "      <td>0.391090</td>\n",
              "      <td>0.988340</td>\n",
              "      <td>0.411828</td>\n",
              "      <td>0.393585</td>\n",
              "      <td>0.461372</td>\n",
              "    </tr>\n",
              "    <tr>\n",
              "      <th>4</th>\n",
              "      <td>17</td>\n",
              "      <td>1</td>\n",
              "      <td>1</td>\n",
              "      <td>0</td>\n",
              "      <td>2</td>\n",
              "      <td>1</td>\n",
              "      <td>2</td>\n",
              "      <td>0</td>\n",
              "      <td>4</td>\n",
              "      <td>2</td>\n",
              "      <td>5</td>\n",
              "      <td>0.530447</td>\n",
              "      <td>0.729004</td>\n",
              "      <td>0.281723</td>\n",
              "      <td>0.444698</td>\n",
              "      <td>0.313032</td>\n",
              "      <td>0.431007</td>\n",
              "      <td>0.390992</td>\n",
              "      <td>0.408874</td>\n",
              "      <td>0.447887</td>\n",
              "      <td>0.390253</td>\n",
              "      <td>0.648932</td>\n",
              "      <td>0.385935</td>\n",
              "      <td>0.370401</td>\n",
              "      <td>0.900412</td>\n",
              "    </tr>\n",
              "  </tbody>\n",
              "</table>\n",
              "</div>"
            ],
            "text/plain": [
              "   id  cat0  cat1  cat2  cat3  ...     cont9    cont10    cont11    cont12    cont13\n",
              "0   0     1     1     1     2  ...  0.290258  0.244476  0.087914  0.301831  0.845702\n",
              "1   5     0     1     0     2  ...  0.288276  0.549568  0.905097  0.850684  0.693940\n",
              "2  15     1     0     0     0  ...  0.427871  0.491667  0.384315  0.376689  0.508099\n",
              "3  16     1     1     0     2  ...  0.391090  0.988340  0.411828  0.393585  0.461372\n",
              "4  17     1     1     0     2  ...  0.390253  0.648932  0.385935  0.370401  0.900412\n",
              "\n",
              "[5 rows x 25 columns]"
            ]
          },
          "metadata": {},
          "execution_count": 11
        }
      ]
    },
    {
      "cell_type": "code",
      "metadata": {
        "id": "YGcqMLEm5TZl",
        "colab": {
          "base_uri": "https://localhost:8080/"
        },
        "outputId": "3bdcdeef-856a-4c22-fc04-00d952a9135b"
      },
      "source": [
        "train.dtypes"
      ],
      "execution_count": 12,
      "outputs": [
        {
          "output_type": "execute_result",
          "data": {
            "text/plain": [
              "id          int64\n",
              "cat0        int64\n",
              "cat1        int64\n",
              "cat2        int64\n",
              "cat3        int64\n",
              "cat4        int64\n",
              "cat5        int64\n",
              "cat6        int64\n",
              "cat7        int64\n",
              "cat8        int64\n",
              "cat9        int64\n",
              "cont0     float64\n",
              "cont1     float64\n",
              "cont2     float64\n",
              "cont3     float64\n",
              "cont4     float64\n",
              "cont5     float64\n",
              "cont6     float64\n",
              "cont7     float64\n",
              "cont8     float64\n",
              "cont9     float64\n",
              "cont10    float64\n",
              "cont11    float64\n",
              "cont12    float64\n",
              "cont13    float64\n",
              "target    float64\n",
              "dtype: object"
            ]
          },
          "metadata": {},
          "execution_count": 12
        }
      ]
    },
    {
      "cell_type": "code",
      "metadata": {
        "id": "2Kv77a3W7o1Y",
        "colab": {
          "base_uri": "https://localhost:8080/"
        },
        "outputId": "35547419-42d1-4633-ba1f-ceaad50be8fb"
      },
      "source": [
        "test.dtypes"
      ],
      "execution_count": 13,
      "outputs": [
        {
          "output_type": "execute_result",
          "data": {
            "text/plain": [
              "id          int64\n",
              "cat0        int64\n",
              "cat1        int64\n",
              "cat2        int64\n",
              "cat3        int64\n",
              "cat4        int64\n",
              "cat5        int64\n",
              "cat6        int64\n",
              "cat7        int64\n",
              "cat8        int64\n",
              "cat9        int64\n",
              "cont0     float64\n",
              "cont1     float64\n",
              "cont2     float64\n",
              "cont3     float64\n",
              "cont4     float64\n",
              "cont5     float64\n",
              "cont6     float64\n",
              "cont7     float64\n",
              "cont8     float64\n",
              "cont9     float64\n",
              "cont10    float64\n",
              "cont11    float64\n",
              "cont12    float64\n",
              "cont13    float64\n",
              "dtype: object"
            ]
          },
          "metadata": {},
          "execution_count": 13
        }
      ]
    },
    {
      "cell_type": "code",
      "metadata": {
        "id": "BYqOjHd48j_9",
        "colab": {
          "base_uri": "https://localhost:8080/",
          "height": 224
        },
        "outputId": "146d04df-e228-46d6-bd18-046f772602c4"
      },
      "source": [
        "train.head()"
      ],
      "execution_count": 14,
      "outputs": [
        {
          "output_type": "execute_result",
          "data": {
            "text/html": [
              "<div>\n",
              "<style scoped>\n",
              "    .dataframe tbody tr th:only-of-type {\n",
              "        vertical-align: middle;\n",
              "    }\n",
              "\n",
              "    .dataframe tbody tr th {\n",
              "        vertical-align: top;\n",
              "    }\n",
              "\n",
              "    .dataframe thead th {\n",
              "        text-align: right;\n",
              "    }\n",
              "</style>\n",
              "<table border=\"1\" class=\"dataframe\">\n",
              "  <thead>\n",
              "    <tr style=\"text-align: right;\">\n",
              "      <th></th>\n",
              "      <th>id</th>\n",
              "      <th>cat0</th>\n",
              "      <th>cat1</th>\n",
              "      <th>cat2</th>\n",
              "      <th>cat3</th>\n",
              "      <th>cat4</th>\n",
              "      <th>cat5</th>\n",
              "      <th>cat6</th>\n",
              "      <th>cat7</th>\n",
              "      <th>cat8</th>\n",
              "      <th>cat9</th>\n",
              "      <th>cont0</th>\n",
              "      <th>cont1</th>\n",
              "      <th>cont2</th>\n",
              "      <th>cont3</th>\n",
              "      <th>cont4</th>\n",
              "      <th>cont5</th>\n",
              "      <th>cont6</th>\n",
              "      <th>cont7</th>\n",
              "      <th>cont8</th>\n",
              "      <th>cont9</th>\n",
              "      <th>cont10</th>\n",
              "      <th>cont11</th>\n",
              "      <th>cont12</th>\n",
              "      <th>cont13</th>\n",
              "      <th>target</th>\n",
              "    </tr>\n",
              "  </thead>\n",
              "  <tbody>\n",
              "    <tr>\n",
              "      <th>0</th>\n",
              "      <td>1</td>\n",
              "      <td>1</td>\n",
              "      <td>1</td>\n",
              "      <td>1</td>\n",
              "      <td>2</td>\n",
              "      <td>1</td>\n",
              "      <td>1</td>\n",
              "      <td>0</td>\n",
              "      <td>4</td>\n",
              "      <td>2</td>\n",
              "      <td>13</td>\n",
              "      <td>0.201470</td>\n",
              "      <td>-0.014822</td>\n",
              "      <td>0.669699</td>\n",
              "      <td>0.136278</td>\n",
              "      <td>0.610706</td>\n",
              "      <td>0.400361</td>\n",
              "      <td>0.160266</td>\n",
              "      <td>0.310921</td>\n",
              "      <td>0.389470</td>\n",
              "      <td>0.267559</td>\n",
              "      <td>0.237281</td>\n",
              "      <td>0.377873</td>\n",
              "      <td>0.322401</td>\n",
              "      <td>0.869850</td>\n",
              "      <td>8.113634</td>\n",
              "    </tr>\n",
              "    <tr>\n",
              "      <th>1</th>\n",
              "      <td>2</td>\n",
              "      <td>1</td>\n",
              "      <td>1</td>\n",
              "      <td>0</td>\n",
              "      <td>0</td>\n",
              "      <td>1</td>\n",
              "      <td>3</td>\n",
              "      <td>0</td>\n",
              "      <td>5</td>\n",
              "      <td>0</td>\n",
              "      <td>14</td>\n",
              "      <td>0.743068</td>\n",
              "      <td>0.367411</td>\n",
              "      <td>1.021605</td>\n",
              "      <td>0.365798</td>\n",
              "      <td>0.276853</td>\n",
              "      <td>0.533087</td>\n",
              "      <td>0.558922</td>\n",
              "      <td>0.516294</td>\n",
              "      <td>0.594928</td>\n",
              "      <td>0.341439</td>\n",
              "      <td>0.906013</td>\n",
              "      <td>0.921701</td>\n",
              "      <td>0.261975</td>\n",
              "      <td>0.465083</td>\n",
              "      <td>8.481233</td>\n",
              "    </tr>\n",
              "    <tr>\n",
              "      <th>2</th>\n",
              "      <td>3</td>\n",
              "      <td>0</td>\n",
              "      <td>0</td>\n",
              "      <td>0</td>\n",
              "      <td>2</td>\n",
              "      <td>1</td>\n",
              "      <td>3</td>\n",
              "      <td>0</td>\n",
              "      <td>3</td>\n",
              "      <td>0</td>\n",
              "      <td>5</td>\n",
              "      <td>0.742708</td>\n",
              "      <td>0.310383</td>\n",
              "      <td>-0.012673</td>\n",
              "      <td>0.576957</td>\n",
              "      <td>0.285074</td>\n",
              "      <td>0.650609</td>\n",
              "      <td>0.375348</td>\n",
              "      <td>0.902567</td>\n",
              "      <td>0.555205</td>\n",
              "      <td>0.843531</td>\n",
              "      <td>0.748809</td>\n",
              "      <td>0.620126</td>\n",
              "      <td>0.541474</td>\n",
              "      <td>0.763846</td>\n",
              "      <td>8.364351</td>\n",
              "    </tr>\n",
              "    <tr>\n",
              "      <th>3</th>\n",
              "      <td>4</td>\n",
              "      <td>1</td>\n",
              "      <td>1</td>\n",
              "      <td>0</td>\n",
              "      <td>2</td>\n",
              "      <td>1</td>\n",
              "      <td>3</td>\n",
              "      <td>0</td>\n",
              "      <td>4</td>\n",
              "      <td>2</td>\n",
              "      <td>10</td>\n",
              "      <td>0.429551</td>\n",
              "      <td>0.620998</td>\n",
              "      <td>0.577942</td>\n",
              "      <td>0.280610</td>\n",
              "      <td>0.284667</td>\n",
              "      <td>0.668980</td>\n",
              "      <td>0.239061</td>\n",
              "      <td>0.732948</td>\n",
              "      <td>0.679618</td>\n",
              "      <td>0.574844</td>\n",
              "      <td>0.346010</td>\n",
              "      <td>0.714610</td>\n",
              "      <td>0.540150</td>\n",
              "      <td>0.280682</td>\n",
              "      <td>8.049253</td>\n",
              "    </tr>\n",
              "    <tr>\n",
              "      <th>4</th>\n",
              "      <td>6</td>\n",
              "      <td>0</td>\n",
              "      <td>0</td>\n",
              "      <td>0</td>\n",
              "      <td>2</td>\n",
              "      <td>1</td>\n",
              "      <td>3</td>\n",
              "      <td>0</td>\n",
              "      <td>4</td>\n",
              "      <td>0</td>\n",
              "      <td>13</td>\n",
              "      <td>1.058291</td>\n",
              "      <td>0.367492</td>\n",
              "      <td>-0.052389</td>\n",
              "      <td>0.232407</td>\n",
              "      <td>0.287595</td>\n",
              "      <td>0.686964</td>\n",
              "      <td>0.420667</td>\n",
              "      <td>0.648182</td>\n",
              "      <td>0.684501</td>\n",
              "      <td>0.956692</td>\n",
              "      <td>1.000773</td>\n",
              "      <td>0.776742</td>\n",
              "      <td>0.625849</td>\n",
              "      <td>0.250823</td>\n",
              "      <td>7.972260</td>\n",
              "    </tr>\n",
              "  </tbody>\n",
              "</table>\n",
              "</div>"
            ],
            "text/plain": [
              "   id  cat0  cat1  cat2  cat3  ...    cont10    cont11    cont12    cont13    target\n",
              "0   1     1     1     1     2  ...  0.237281  0.377873  0.322401  0.869850  8.113634\n",
              "1   2     1     1     0     0  ...  0.906013  0.921701  0.261975  0.465083  8.481233\n",
              "2   3     0     0     0     2  ...  0.748809  0.620126  0.541474  0.763846  8.364351\n",
              "3   4     1     1     0     2  ...  0.346010  0.714610  0.540150  0.280682  8.049253\n",
              "4   6     0     0     0     2  ...  1.000773  0.776742  0.625849  0.250823  7.972260\n",
              "\n",
              "[5 rows x 26 columns]"
            ]
          },
          "metadata": {},
          "execution_count": 14
        }
      ]
    },
    {
      "cell_type": "code",
      "metadata": {
        "id": "up94XILF8n6G",
        "colab": {
          "base_uri": "https://localhost:8080/",
          "height": 224
        },
        "outputId": "3837e700-ca46-468b-8af2-e0a1d41f60cc"
      },
      "source": [
        "test.head()"
      ],
      "execution_count": 15,
      "outputs": [
        {
          "output_type": "execute_result",
          "data": {
            "text/html": [
              "<div>\n",
              "<style scoped>\n",
              "    .dataframe tbody tr th:only-of-type {\n",
              "        vertical-align: middle;\n",
              "    }\n",
              "\n",
              "    .dataframe tbody tr th {\n",
              "        vertical-align: top;\n",
              "    }\n",
              "\n",
              "    .dataframe thead th {\n",
              "        text-align: right;\n",
              "    }\n",
              "</style>\n",
              "<table border=\"1\" class=\"dataframe\">\n",
              "  <thead>\n",
              "    <tr style=\"text-align: right;\">\n",
              "      <th></th>\n",
              "      <th>id</th>\n",
              "      <th>cat0</th>\n",
              "      <th>cat1</th>\n",
              "      <th>cat2</th>\n",
              "      <th>cat3</th>\n",
              "      <th>cat4</th>\n",
              "      <th>cat5</th>\n",
              "      <th>cat6</th>\n",
              "      <th>cat7</th>\n",
              "      <th>cat8</th>\n",
              "      <th>cat9</th>\n",
              "      <th>cont0</th>\n",
              "      <th>cont1</th>\n",
              "      <th>cont2</th>\n",
              "      <th>cont3</th>\n",
              "      <th>cont4</th>\n",
              "      <th>cont5</th>\n",
              "      <th>cont6</th>\n",
              "      <th>cont7</th>\n",
              "      <th>cont8</th>\n",
              "      <th>cont9</th>\n",
              "      <th>cont10</th>\n",
              "      <th>cont11</th>\n",
              "      <th>cont12</th>\n",
              "      <th>cont13</th>\n",
              "    </tr>\n",
              "  </thead>\n",
              "  <tbody>\n",
              "    <tr>\n",
              "      <th>0</th>\n",
              "      <td>0</td>\n",
              "      <td>1</td>\n",
              "      <td>1</td>\n",
              "      <td>1</td>\n",
              "      <td>2</td>\n",
              "      <td>1</td>\n",
              "      <td>1</td>\n",
              "      <td>0</td>\n",
              "      <td>4</td>\n",
              "      <td>4</td>\n",
              "      <td>8</td>\n",
              "      <td>0.296227</td>\n",
              "      <td>0.686757</td>\n",
              "      <td>0.587731</td>\n",
              "      <td>0.392753</td>\n",
              "      <td>0.476739</td>\n",
              "      <td>0.376350</td>\n",
              "      <td>0.337884</td>\n",
              "      <td>0.321832</td>\n",
              "      <td>0.445212</td>\n",
              "      <td>0.290258</td>\n",
              "      <td>0.244476</td>\n",
              "      <td>0.087914</td>\n",
              "      <td>0.301831</td>\n",
              "      <td>0.845702</td>\n",
              "    </tr>\n",
              "    <tr>\n",
              "      <th>1</th>\n",
              "      <td>5</td>\n",
              "      <td>0</td>\n",
              "      <td>1</td>\n",
              "      <td>0</td>\n",
              "      <td>2</td>\n",
              "      <td>1</td>\n",
              "      <td>2</td>\n",
              "      <td>0</td>\n",
              "      <td>4</td>\n",
              "      <td>2</td>\n",
              "      <td>7</td>\n",
              "      <td>0.543707</td>\n",
              "      <td>0.364761</td>\n",
              "      <td>0.452967</td>\n",
              "      <td>0.929645</td>\n",
              "      <td>0.285509</td>\n",
              "      <td>0.860046</td>\n",
              "      <td>0.798712</td>\n",
              "      <td>0.835961</td>\n",
              "      <td>0.391657</td>\n",
              "      <td>0.288276</td>\n",
              "      <td>0.549568</td>\n",
              "      <td>0.905097</td>\n",
              "      <td>0.850684</td>\n",
              "      <td>0.693940</td>\n",
              "    </tr>\n",
              "    <tr>\n",
              "      <th>2</th>\n",
              "      <td>15</td>\n",
              "      <td>1</td>\n",
              "      <td>0</td>\n",
              "      <td>0</td>\n",
              "      <td>0</td>\n",
              "      <td>1</td>\n",
              "      <td>1</td>\n",
              "      <td>0</td>\n",
              "      <td>4</td>\n",
              "      <td>3</td>\n",
              "      <td>10</td>\n",
              "      <td>0.408961</td>\n",
              "      <td>0.296129</td>\n",
              "      <td>0.690999</td>\n",
              "      <td>0.740027</td>\n",
              "      <td>0.697272</td>\n",
              "      <td>0.683600</td>\n",
              "      <td>0.404089</td>\n",
              "      <td>0.879379</td>\n",
              "      <td>0.275549</td>\n",
              "      <td>0.427871</td>\n",
              "      <td>0.491667</td>\n",
              "      <td>0.384315</td>\n",
              "      <td>0.376689</td>\n",
              "      <td>0.508099</td>\n",
              "    </tr>\n",
              "    <tr>\n",
              "      <th>3</th>\n",
              "      <td>16</td>\n",
              "      <td>1</td>\n",
              "      <td>1</td>\n",
              "      <td>0</td>\n",
              "      <td>2</td>\n",
              "      <td>1</td>\n",
              "      <td>3</td>\n",
              "      <td>0</td>\n",
              "      <td>4</td>\n",
              "      <td>0</td>\n",
              "      <td>13</td>\n",
              "      <td>1.031239</td>\n",
              "      <td>0.356062</td>\n",
              "      <td>0.303651</td>\n",
              "      <td>0.895591</td>\n",
              "      <td>0.719306</td>\n",
              "      <td>0.777890</td>\n",
              "      <td>0.730954</td>\n",
              "      <td>0.644315</td>\n",
              "      <td>1.024017</td>\n",
              "      <td>0.391090</td>\n",
              "      <td>0.988340</td>\n",
              "      <td>0.411828</td>\n",
              "      <td>0.393585</td>\n",
              "      <td>0.461372</td>\n",
              "    </tr>\n",
              "    <tr>\n",
              "      <th>4</th>\n",
              "      <td>17</td>\n",
              "      <td>1</td>\n",
              "      <td>1</td>\n",
              "      <td>0</td>\n",
              "      <td>2</td>\n",
              "      <td>1</td>\n",
              "      <td>2</td>\n",
              "      <td>0</td>\n",
              "      <td>4</td>\n",
              "      <td>2</td>\n",
              "      <td>5</td>\n",
              "      <td>0.530447</td>\n",
              "      <td>0.729004</td>\n",
              "      <td>0.281723</td>\n",
              "      <td>0.444698</td>\n",
              "      <td>0.313032</td>\n",
              "      <td>0.431007</td>\n",
              "      <td>0.390992</td>\n",
              "      <td>0.408874</td>\n",
              "      <td>0.447887</td>\n",
              "      <td>0.390253</td>\n",
              "      <td>0.648932</td>\n",
              "      <td>0.385935</td>\n",
              "      <td>0.370401</td>\n",
              "      <td>0.900412</td>\n",
              "    </tr>\n",
              "  </tbody>\n",
              "</table>\n",
              "</div>"
            ],
            "text/plain": [
              "   id  cat0  cat1  cat2  cat3  ...     cont9    cont10    cont11    cont12    cont13\n",
              "0   0     1     1     1     2  ...  0.290258  0.244476  0.087914  0.301831  0.845702\n",
              "1   5     0     1     0     2  ...  0.288276  0.549568  0.905097  0.850684  0.693940\n",
              "2  15     1     0     0     0  ...  0.427871  0.491667  0.384315  0.376689  0.508099\n",
              "3  16     1     1     0     2  ...  0.391090  0.988340  0.411828  0.393585  0.461372\n",
              "4  17     1     1     0     2  ...  0.390253  0.648932  0.385935  0.370401  0.900412\n",
              "\n",
              "[5 rows x 25 columns]"
            ]
          },
          "metadata": {},
          "execution_count": 15
        }
      ]
    },
    {
      "cell_type": "code",
      "metadata": {
        "colab": {
          "base_uri": "https://localhost:8080/"
        },
        "id": "3ewPYtf7m557",
        "outputId": "dc1cc51e-de6e-4b1a-ebc0-16f1c5c69ec4"
      },
      "source": [
        "train.dtypes"
      ],
      "execution_count": 16,
      "outputs": [
        {
          "output_type": "execute_result",
          "data": {
            "text/plain": [
              "id          int64\n",
              "cat0        int64\n",
              "cat1        int64\n",
              "cat2        int64\n",
              "cat3        int64\n",
              "cat4        int64\n",
              "cat5        int64\n",
              "cat6        int64\n",
              "cat7        int64\n",
              "cat8        int64\n",
              "cat9        int64\n",
              "cont0     float64\n",
              "cont1     float64\n",
              "cont2     float64\n",
              "cont3     float64\n",
              "cont4     float64\n",
              "cont5     float64\n",
              "cont6     float64\n",
              "cont7     float64\n",
              "cont8     float64\n",
              "cont9     float64\n",
              "cont10    float64\n",
              "cont11    float64\n",
              "cont12    float64\n",
              "cont13    float64\n",
              "target    float64\n",
              "dtype: object"
            ]
          },
          "metadata": {},
          "execution_count": 16
        }
      ]
    },
    {
      "cell_type": "code",
      "metadata": {
        "colab": {
          "base_uri": "https://localhost:8080/"
        },
        "id": "-0UNR3v1oZk9",
        "outputId": "e9382d52-d4d5-45c5-f6d5-83c161534227"
      },
      "source": [
        "from sklearn.impute import SimpleImputer\n",
        "imputer = SimpleImputer(strategy=\"median\")\n",
        "imputer.fit(train)"
      ],
      "execution_count": 17,
      "outputs": [
        {
          "output_type": "execute_result",
          "data": {
            "text/plain": [
              "SimpleImputer(add_indicator=False, copy=True, fill_value=None,\n",
              "              missing_values=nan, strategy='median', verbose=0)"
            ]
          },
          "metadata": {},
          "execution_count": 17
        }
      ]
    },
    {
      "cell_type": "code",
      "metadata": {
        "colab": {
          "base_uri": "https://localhost:8080/",
          "height": 224
        },
        "id": "SXw8dK5VwS4W",
        "outputId": "e626962c-bad3-4649-d163-3946f83b13b1"
      },
      "source": [
        "train.head()"
      ],
      "execution_count": 18,
      "outputs": [
        {
          "output_type": "execute_result",
          "data": {
            "text/html": [
              "<div>\n",
              "<style scoped>\n",
              "    .dataframe tbody tr th:only-of-type {\n",
              "        vertical-align: middle;\n",
              "    }\n",
              "\n",
              "    .dataframe tbody tr th {\n",
              "        vertical-align: top;\n",
              "    }\n",
              "\n",
              "    .dataframe thead th {\n",
              "        text-align: right;\n",
              "    }\n",
              "</style>\n",
              "<table border=\"1\" class=\"dataframe\">\n",
              "  <thead>\n",
              "    <tr style=\"text-align: right;\">\n",
              "      <th></th>\n",
              "      <th>id</th>\n",
              "      <th>cat0</th>\n",
              "      <th>cat1</th>\n",
              "      <th>cat2</th>\n",
              "      <th>cat3</th>\n",
              "      <th>cat4</th>\n",
              "      <th>cat5</th>\n",
              "      <th>cat6</th>\n",
              "      <th>cat7</th>\n",
              "      <th>cat8</th>\n",
              "      <th>cat9</th>\n",
              "      <th>cont0</th>\n",
              "      <th>cont1</th>\n",
              "      <th>cont2</th>\n",
              "      <th>cont3</th>\n",
              "      <th>cont4</th>\n",
              "      <th>cont5</th>\n",
              "      <th>cont6</th>\n",
              "      <th>cont7</th>\n",
              "      <th>cont8</th>\n",
              "      <th>cont9</th>\n",
              "      <th>cont10</th>\n",
              "      <th>cont11</th>\n",
              "      <th>cont12</th>\n",
              "      <th>cont13</th>\n",
              "      <th>target</th>\n",
              "    </tr>\n",
              "  </thead>\n",
              "  <tbody>\n",
              "    <tr>\n",
              "      <th>0</th>\n",
              "      <td>1</td>\n",
              "      <td>1</td>\n",
              "      <td>1</td>\n",
              "      <td>1</td>\n",
              "      <td>2</td>\n",
              "      <td>1</td>\n",
              "      <td>1</td>\n",
              "      <td>0</td>\n",
              "      <td>4</td>\n",
              "      <td>2</td>\n",
              "      <td>13</td>\n",
              "      <td>0.201470</td>\n",
              "      <td>-0.014822</td>\n",
              "      <td>0.669699</td>\n",
              "      <td>0.136278</td>\n",
              "      <td>0.610706</td>\n",
              "      <td>0.400361</td>\n",
              "      <td>0.160266</td>\n",
              "      <td>0.310921</td>\n",
              "      <td>0.389470</td>\n",
              "      <td>0.267559</td>\n",
              "      <td>0.237281</td>\n",
              "      <td>0.377873</td>\n",
              "      <td>0.322401</td>\n",
              "      <td>0.869850</td>\n",
              "      <td>8.113634</td>\n",
              "    </tr>\n",
              "    <tr>\n",
              "      <th>1</th>\n",
              "      <td>2</td>\n",
              "      <td>1</td>\n",
              "      <td>1</td>\n",
              "      <td>0</td>\n",
              "      <td>0</td>\n",
              "      <td>1</td>\n",
              "      <td>3</td>\n",
              "      <td>0</td>\n",
              "      <td>5</td>\n",
              "      <td>0</td>\n",
              "      <td>14</td>\n",
              "      <td>0.743068</td>\n",
              "      <td>0.367411</td>\n",
              "      <td>1.021605</td>\n",
              "      <td>0.365798</td>\n",
              "      <td>0.276853</td>\n",
              "      <td>0.533087</td>\n",
              "      <td>0.558922</td>\n",
              "      <td>0.516294</td>\n",
              "      <td>0.594928</td>\n",
              "      <td>0.341439</td>\n",
              "      <td>0.906013</td>\n",
              "      <td>0.921701</td>\n",
              "      <td>0.261975</td>\n",
              "      <td>0.465083</td>\n",
              "      <td>8.481233</td>\n",
              "    </tr>\n",
              "    <tr>\n",
              "      <th>2</th>\n",
              "      <td>3</td>\n",
              "      <td>0</td>\n",
              "      <td>0</td>\n",
              "      <td>0</td>\n",
              "      <td>2</td>\n",
              "      <td>1</td>\n",
              "      <td>3</td>\n",
              "      <td>0</td>\n",
              "      <td>3</td>\n",
              "      <td>0</td>\n",
              "      <td>5</td>\n",
              "      <td>0.742708</td>\n",
              "      <td>0.310383</td>\n",
              "      <td>-0.012673</td>\n",
              "      <td>0.576957</td>\n",
              "      <td>0.285074</td>\n",
              "      <td>0.650609</td>\n",
              "      <td>0.375348</td>\n",
              "      <td>0.902567</td>\n",
              "      <td>0.555205</td>\n",
              "      <td>0.843531</td>\n",
              "      <td>0.748809</td>\n",
              "      <td>0.620126</td>\n",
              "      <td>0.541474</td>\n",
              "      <td>0.763846</td>\n",
              "      <td>8.364351</td>\n",
              "    </tr>\n",
              "    <tr>\n",
              "      <th>3</th>\n",
              "      <td>4</td>\n",
              "      <td>1</td>\n",
              "      <td>1</td>\n",
              "      <td>0</td>\n",
              "      <td>2</td>\n",
              "      <td>1</td>\n",
              "      <td>3</td>\n",
              "      <td>0</td>\n",
              "      <td>4</td>\n",
              "      <td>2</td>\n",
              "      <td>10</td>\n",
              "      <td>0.429551</td>\n",
              "      <td>0.620998</td>\n",
              "      <td>0.577942</td>\n",
              "      <td>0.280610</td>\n",
              "      <td>0.284667</td>\n",
              "      <td>0.668980</td>\n",
              "      <td>0.239061</td>\n",
              "      <td>0.732948</td>\n",
              "      <td>0.679618</td>\n",
              "      <td>0.574844</td>\n",
              "      <td>0.346010</td>\n",
              "      <td>0.714610</td>\n",
              "      <td>0.540150</td>\n",
              "      <td>0.280682</td>\n",
              "      <td>8.049253</td>\n",
              "    </tr>\n",
              "    <tr>\n",
              "      <th>4</th>\n",
              "      <td>6</td>\n",
              "      <td>0</td>\n",
              "      <td>0</td>\n",
              "      <td>0</td>\n",
              "      <td>2</td>\n",
              "      <td>1</td>\n",
              "      <td>3</td>\n",
              "      <td>0</td>\n",
              "      <td>4</td>\n",
              "      <td>0</td>\n",
              "      <td>13</td>\n",
              "      <td>1.058291</td>\n",
              "      <td>0.367492</td>\n",
              "      <td>-0.052389</td>\n",
              "      <td>0.232407</td>\n",
              "      <td>0.287595</td>\n",
              "      <td>0.686964</td>\n",
              "      <td>0.420667</td>\n",
              "      <td>0.648182</td>\n",
              "      <td>0.684501</td>\n",
              "      <td>0.956692</td>\n",
              "      <td>1.000773</td>\n",
              "      <td>0.776742</td>\n",
              "      <td>0.625849</td>\n",
              "      <td>0.250823</td>\n",
              "      <td>7.972260</td>\n",
              "    </tr>\n",
              "  </tbody>\n",
              "</table>\n",
              "</div>"
            ],
            "text/plain": [
              "   id  cat0  cat1  cat2  cat3  ...    cont10    cont11    cont12    cont13    target\n",
              "0   1     1     1     1     2  ...  0.237281  0.377873  0.322401  0.869850  8.113634\n",
              "1   2     1     1     0     0  ...  0.906013  0.921701  0.261975  0.465083  8.481233\n",
              "2   3     0     0     0     2  ...  0.748809  0.620126  0.541474  0.763846  8.364351\n",
              "3   4     1     1     0     2  ...  0.346010  0.714610  0.540150  0.280682  8.049253\n",
              "4   6     0     0     0     2  ...  1.000773  0.776742  0.625849  0.250823  7.972260\n",
              "\n",
              "[5 rows x 26 columns]"
            ]
          },
          "metadata": {},
          "execution_count": 18
        }
      ]
    },
    {
      "cell_type": "code",
      "metadata": {
        "id": "n0PQ8jqH-Fmw"
      },
      "source": [
        "y = train.target\n",
        "X = train.drop(['target'], axis=1)"
      ],
      "execution_count": 19,
      "outputs": []
    },
    {
      "cell_type": "code",
      "metadata": {
        "id": "_q7CfQQF2WQm"
      },
      "source": [
        "# Divide data into training and validation subsets\n",
        "X_train_full, X_valid_full, y_train, y_valid = train_test_split(X, y, train_size=0.8, test_size=0.2,random_state=0)"
      ],
      "execution_count": 20,
      "outputs": []
    },
    {
      "cell_type": "code",
      "metadata": {
        "id": "_fZhV6qf-blJ"
      },
      "source": [
        "categorical_cols = [cname for cname in X_train_full.columns if X_train_full[cname].nunique() < 10 and \n",
        "                        X_train_full[cname].dtype == \"object\"]\n",
        "\n",
        "# Select numerical columns\n",
        "numerical_cols = [cname for cname in X_train_full.columns if X_train_full[cname].dtype in ['int64', 'float64']]\n",
        "\n",
        "# Keep selected columns only\n",
        "my_cols = categorical_cols + numerical_cols\n",
        "X_train = X_train_full[my_cols].copy()\n",
        "X_valid = X_valid_full[my_cols].copy()"
      ],
      "execution_count": 21,
      "outputs": []
    },
    {
      "cell_type": "code",
      "metadata": {
        "id": "5UMv-_Ms3hsg"
      },
      "source": [
        "from sklearn.compose import ColumnTransformer\n",
        "from sklearn.pipeline import Pipeline\n",
        "from sklearn.impute import SimpleImputer\n",
        "from sklearn.preprocessing import OneHotEncoder\n",
        "\n",
        "# Preprocessing for numerical data\n",
        "numerical_transformer = SimpleImputer(strategy='constant')\n",
        "\n",
        "# Preprocessing for categorical data\n",
        "categorical_transformer = Pipeline(steps=[\n",
        "    ('imputer', SimpleImputer(strategy='most_frequent')),\n",
        "    ('onehot', OneHotEncoder(handle_unknown='ignore'))\n",
        "])\n",
        "\n",
        "# Bundle preprocessing for numerical and categorical data\n",
        "preprocessor = ColumnTransformer(\n",
        "    transformers=[\n",
        "        ('num', numerical_transformer, numerical_cols),\n",
        "        ('cat', categorical_transformer, categorical_cols)\n",
        "    ])\n"
      ],
      "execution_count": 22,
      "outputs": []
    },
    {
      "cell_type": "code",
      "metadata": {
        "id": "vfmeaHp34akZ"
      },
      "source": [
        "from sklearn.ensemble import RandomForestRegressor\n",
        "\n",
        "model = RandomForestRegressor(n_estimators=10, random_state=0)"
      ],
      "execution_count": 23,
      "outputs": []
    },
    {
      "cell_type": "code",
      "metadata": {
        "id": "PCYYW-T6-n3o"
      },
      "source": [
        "from sklearn.metrics import mean_absolute_error\n",
        "\n",
        "# Bundle preprocessing and modeling code in a pipeline\n",
        "my_pipeline = Pipeline(steps=[('preprocessor', preprocessor),\n",
        "                              ('model', model)\n",
        "                             ])\n",
        "\n",
        "# Preprocessing of training data, fit model \n",
        "my_pipeline.fit(X_train, y_train)\n",
        "\n",
        "# Preprocessing of validation data, get predictions\n",
        "preds = my_pipeline.predict(test)"
      ],
      "execution_count": 24,
      "outputs": []
    },
    {
      "cell_type": "code",
      "metadata": {
        "colab": {
          "base_uri": "https://localhost:8080/"
        },
        "id": "UWAPW0rL-thE",
        "outputId": "1ec85bef-d92e-4410-87f9-74f0ffee66fc"
      },
      "source": [
        "test.shape"
      ],
      "execution_count": 25,
      "outputs": [
        {
          "output_type": "execute_result",
          "data": {
            "text/plain": [
              "(200000, 25)"
            ]
          },
          "metadata": {},
          "execution_count": 25
        }
      ]
    },
    {
      "cell_type": "code",
      "metadata": {
        "colab": {
          "base_uri": "https://localhost:8080/"
        },
        "id": "OVa6Dccf_cz9",
        "outputId": "54ba832e-ab06-4162-f212-346e89a5a88a"
      },
      "source": [
        "preds.shape"
      ],
      "execution_count": 26,
      "outputs": [
        {
          "output_type": "execute_result",
          "data": {
            "text/plain": [
              "(200000,)"
            ]
          },
          "metadata": {},
          "execution_count": 26
        }
      ]
    },
    {
      "cell_type": "code",
      "metadata": {
        "id": "qSHTJzsg_c22"
      },
      "source": [
        "output = pd.DataFrame({'id': test.id,\n",
        "                       'target': preds})\n",
        "output.to_csv('submission_9.csv', index=False)"
      ],
      "execution_count": 27,
      "outputs": []
    },
    {
      "cell_type": "code",
      "metadata": {
        "id": "FL5LRERU_qoD"
      },
      "source": [
        ""
      ],
      "execution_count": 27,
      "outputs": []
    }
  ]
}