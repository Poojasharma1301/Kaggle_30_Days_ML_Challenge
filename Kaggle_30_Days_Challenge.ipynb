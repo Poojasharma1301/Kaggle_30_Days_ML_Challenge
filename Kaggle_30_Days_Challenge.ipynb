{
  "nbformat": 4,
  "nbformat_minor": 0,
  "metadata": {
    "accelerator": "GPU",
    "colab": {
      "name": "Kaggle_30_Days_Challenge.ipynb",
      "provenance": [],
      "collapsed_sections": []
    },
    "kernelspec": {
      "display_name": "Python 3",
      "name": "python3"
    },
    "language_info": {
      "name": "python"
    }
  },
  "cells": [
    {
      "cell_type": "code",
      "metadata": {
        "colab": {
          "base_uri": "https://localhost:8080/"
        },
        "id": "57dv2crb98Qb",
        "outputId": "4ca31ab5-e192-4ad8-f901-c7e612df37ed"
      },
      "source": [
        "try:\n",
        "    from IPython import get_ipython\n",
        "    get_ipython().magic('clear')\n",
        "    get_ipython().magic('reset -f')\n",
        "except:\n",
        "    pass"
      ],
      "execution_count": null,
      "outputs": [
        {
          "name": "stdout",
          "output_type": "stream",
          "text": [
            "\u001b[H\u001b[2J"
          ]
        }
      ]
    },
    {
      "cell_type": "code",
      "metadata": {
        "id": "4_-71U_O-_gU"
      },
      "source": [
        "import pandas as pd\n",
        "import numpy as np\n",
        "import sqlite3\n",
        "from sqlalchemy import create_engine\n",
        "import matplotlib.pyplot as plt\n",
        "%matplotlib inline\n",
        "import seaborn as sns\n",
        "\n",
        "#To ignore the warnings \n",
        "import warnings as wg\n",
        "wg.filterwarnings(\"ignore\")"
      ],
      "execution_count": null,
      "outputs": []
    },
    {
      "cell_type": "code",
      "metadata": {
        "id": "m0ZCVA5R_GVV"
      },
      "source": [
        "from google.colab import drive"
      ],
      "execution_count": null,
      "outputs": []
    },
    {
      "cell_type": "code",
      "metadata": {
        "id": "EHVBsuKk_JSu"
      },
      "source": [
        "drive.mount('/content/drive')"
      ],
      "execution_count": null,
      "outputs": []
    },
    {
      "cell_type": "code",
      "metadata": {
        "id": "BX4Mi5O5_L0k"
      },
      "source": [
        "train1= pd.read_csv('/content/drive/MyDrive/train.csv')\n",
        "test= pd.read_csv('/content/drive/MyDrive/test.csv')"
      ],
      "execution_count": null,
      "outputs": []
    },
    {
      "cell_type": "code",
      "metadata": {
        "colab": {
          "background_save": true
        },
        "id": "QhQaRD8LYDpB",
        "outputId": "e9085703-77a5-4377-c401-807ecfacc13a"
      },
      "source": [
        "train1.head()"
      ],
      "execution_count": null,
      "outputs": [
        {
          "data": {
            "text/html": [
              "<div>\n",
              "<style scoped>\n",
              "    .dataframe tbody tr th:only-of-type {\n",
              "        vertical-align: middle;\n",
              "    }\n",
              "\n",
              "    .dataframe tbody tr th {\n",
              "        vertical-align: top;\n",
              "    }\n",
              "\n",
              "    .dataframe thead th {\n",
              "        text-align: right;\n",
              "    }\n",
              "</style>\n",
              "<table border=\"1\" class=\"dataframe\">\n",
              "  <thead>\n",
              "    <tr style=\"text-align: right;\">\n",
              "      <th></th>\n",
              "      <th>id</th>\n",
              "      <th>cat0</th>\n",
              "      <th>cat1</th>\n",
              "      <th>cat2</th>\n",
              "      <th>cat3</th>\n",
              "      <th>cat4</th>\n",
              "      <th>cat5</th>\n",
              "      <th>cat6</th>\n",
              "      <th>cat7</th>\n",
              "      <th>cat8</th>\n",
              "      <th>cat9</th>\n",
              "      <th>cont0</th>\n",
              "      <th>cont1</th>\n",
              "      <th>cont2</th>\n",
              "      <th>cont3</th>\n",
              "      <th>cont4</th>\n",
              "      <th>cont5</th>\n",
              "      <th>cont6</th>\n",
              "      <th>cont7</th>\n",
              "      <th>cont8</th>\n",
              "      <th>cont9</th>\n",
              "      <th>cont10</th>\n",
              "      <th>cont11</th>\n",
              "      <th>cont12</th>\n",
              "      <th>cont13</th>\n",
              "      <th>target</th>\n",
              "    </tr>\n",
              "  </thead>\n",
              "  <tbody>\n",
              "    <tr>\n",
              "      <th>0</th>\n",
              "      <td>1</td>\n",
              "      <td>B</td>\n",
              "      <td>B</td>\n",
              "      <td>B</td>\n",
              "      <td>C</td>\n",
              "      <td>B</td>\n",
              "      <td>B</td>\n",
              "      <td>A</td>\n",
              "      <td>E</td>\n",
              "      <td>C</td>\n",
              "      <td>N</td>\n",
              "      <td>0.201470</td>\n",
              "      <td>-0.014822</td>\n",
              "      <td>0.669699</td>\n",
              "      <td>0.136278</td>\n",
              "      <td>0.610706</td>\n",
              "      <td>0.400361</td>\n",
              "      <td>0.160266</td>\n",
              "      <td>0.310921</td>\n",
              "      <td>0.389470</td>\n",
              "      <td>0.267559</td>\n",
              "      <td>0.237281</td>\n",
              "      <td>0.377873</td>\n",
              "      <td>0.322401</td>\n",
              "      <td>0.869850</td>\n",
              "      <td>8.113634</td>\n",
              "    </tr>\n",
              "    <tr>\n",
              "      <th>1</th>\n",
              "      <td>2</td>\n",
              "      <td>B</td>\n",
              "      <td>B</td>\n",
              "      <td>A</td>\n",
              "      <td>A</td>\n",
              "      <td>B</td>\n",
              "      <td>D</td>\n",
              "      <td>A</td>\n",
              "      <td>F</td>\n",
              "      <td>A</td>\n",
              "      <td>O</td>\n",
              "      <td>0.743068</td>\n",
              "      <td>0.367411</td>\n",
              "      <td>1.021605</td>\n",
              "      <td>0.365798</td>\n",
              "      <td>0.276853</td>\n",
              "      <td>0.533087</td>\n",
              "      <td>0.558922</td>\n",
              "      <td>0.516294</td>\n",
              "      <td>0.594928</td>\n",
              "      <td>0.341439</td>\n",
              "      <td>0.906013</td>\n",
              "      <td>0.921701</td>\n",
              "      <td>0.261975</td>\n",
              "      <td>0.465083</td>\n",
              "      <td>8.481233</td>\n",
              "    </tr>\n",
              "    <tr>\n",
              "      <th>2</th>\n",
              "      <td>3</td>\n",
              "      <td>A</td>\n",
              "      <td>A</td>\n",
              "      <td>A</td>\n",
              "      <td>C</td>\n",
              "      <td>B</td>\n",
              "      <td>D</td>\n",
              "      <td>A</td>\n",
              "      <td>D</td>\n",
              "      <td>A</td>\n",
              "      <td>F</td>\n",
              "      <td>0.742708</td>\n",
              "      <td>0.310383</td>\n",
              "      <td>-0.012673</td>\n",
              "      <td>0.576957</td>\n",
              "      <td>0.285074</td>\n",
              "      <td>0.650609</td>\n",
              "      <td>0.375348</td>\n",
              "      <td>0.902567</td>\n",
              "      <td>0.555205</td>\n",
              "      <td>0.843531</td>\n",
              "      <td>0.748809</td>\n",
              "      <td>0.620126</td>\n",
              "      <td>0.541474</td>\n",
              "      <td>0.763846</td>\n",
              "      <td>8.364351</td>\n",
              "    </tr>\n",
              "    <tr>\n",
              "      <th>3</th>\n",
              "      <td>4</td>\n",
              "      <td>B</td>\n",
              "      <td>B</td>\n",
              "      <td>A</td>\n",
              "      <td>C</td>\n",
              "      <td>B</td>\n",
              "      <td>D</td>\n",
              "      <td>A</td>\n",
              "      <td>E</td>\n",
              "      <td>C</td>\n",
              "      <td>K</td>\n",
              "      <td>0.429551</td>\n",
              "      <td>0.620998</td>\n",
              "      <td>0.577942</td>\n",
              "      <td>0.280610</td>\n",
              "      <td>0.284667</td>\n",
              "      <td>0.668980</td>\n",
              "      <td>0.239061</td>\n",
              "      <td>0.732948</td>\n",
              "      <td>0.679618</td>\n",
              "      <td>0.574844</td>\n",
              "      <td>0.346010</td>\n",
              "      <td>0.714610</td>\n",
              "      <td>0.540150</td>\n",
              "      <td>0.280682</td>\n",
              "      <td>8.049253</td>\n",
              "    </tr>\n",
              "    <tr>\n",
              "      <th>4</th>\n",
              "      <td>6</td>\n",
              "      <td>A</td>\n",
              "      <td>A</td>\n",
              "      <td>A</td>\n",
              "      <td>C</td>\n",
              "      <td>B</td>\n",
              "      <td>D</td>\n",
              "      <td>A</td>\n",
              "      <td>E</td>\n",
              "      <td>A</td>\n",
              "      <td>N</td>\n",
              "      <td>1.058291</td>\n",
              "      <td>0.367492</td>\n",
              "      <td>-0.052389</td>\n",
              "      <td>0.232407</td>\n",
              "      <td>0.287595</td>\n",
              "      <td>0.686964</td>\n",
              "      <td>0.420667</td>\n",
              "      <td>0.648182</td>\n",
              "      <td>0.684501</td>\n",
              "      <td>0.956692</td>\n",
              "      <td>1.000773</td>\n",
              "      <td>0.776742</td>\n",
              "      <td>0.625849</td>\n",
              "      <td>0.250823</td>\n",
              "      <td>7.972260</td>\n",
              "    </tr>\n",
              "  </tbody>\n",
              "</table>\n",
              "</div>"
            ],
            "text/plain": [
              "   id cat0 cat1 cat2 cat3  ...    cont10    cont11    cont12    cont13    target\n",
              "0   1    B    B    B    C  ...  0.237281  0.377873  0.322401  0.869850  8.113634\n",
              "1   2    B    B    A    A  ...  0.906013  0.921701  0.261975  0.465083  8.481233\n",
              "2   3    A    A    A    C  ...  0.748809  0.620126  0.541474  0.763846  8.364351\n",
              "3   4    B    B    A    C  ...  0.346010  0.714610  0.540150  0.280682  8.049253\n",
              "4   6    A    A    A    C  ...  1.000773  0.776742  0.625849  0.250823  7.972260\n",
              "\n",
              "[5 rows x 26 columns]"
            ]
          },
          "execution_count": null,
          "metadata": {},
          "output_type": "execute_result"
        }
      ]
    },
    {
      "cell_type": "code",
      "metadata": {
        "colab": {
          "background_save": true
        },
        "id": "xwEUao1vagYq",
        "outputId": "5c634f77-a3e2-4721-9610-d4d2bf747875"
      },
      "source": [
        "test.head()"
      ],
      "execution_count": null,
      "outputs": [
        {
          "data": {
            "text/html": [
              "<div>\n",
              "<style scoped>\n",
              "    .dataframe tbody tr th:only-of-type {\n",
              "        vertical-align: middle;\n",
              "    }\n",
              "\n",
              "    .dataframe tbody tr th {\n",
              "        vertical-align: top;\n",
              "    }\n",
              "\n",
              "    .dataframe thead th {\n",
              "        text-align: right;\n",
              "    }\n",
              "</style>\n",
              "<table border=\"1\" class=\"dataframe\">\n",
              "  <thead>\n",
              "    <tr style=\"text-align: right;\">\n",
              "      <th></th>\n",
              "      <th>id</th>\n",
              "      <th>cat0</th>\n",
              "      <th>cat1</th>\n",
              "      <th>cat2</th>\n",
              "      <th>cat3</th>\n",
              "      <th>cat4</th>\n",
              "      <th>cat5</th>\n",
              "      <th>cat6</th>\n",
              "      <th>cat7</th>\n",
              "      <th>cat8</th>\n",
              "      <th>cat9</th>\n",
              "      <th>cont0</th>\n",
              "      <th>cont1</th>\n",
              "      <th>cont2</th>\n",
              "      <th>cont3</th>\n",
              "      <th>cont4</th>\n",
              "      <th>cont5</th>\n",
              "      <th>cont6</th>\n",
              "      <th>cont7</th>\n",
              "      <th>cont8</th>\n",
              "      <th>cont9</th>\n",
              "      <th>cont10</th>\n",
              "      <th>cont11</th>\n",
              "      <th>cont12</th>\n",
              "      <th>cont13</th>\n",
              "    </tr>\n",
              "  </thead>\n",
              "  <tbody>\n",
              "    <tr>\n",
              "      <th>0</th>\n",
              "      <td>0</td>\n",
              "      <td>B</td>\n",
              "      <td>B</td>\n",
              "      <td>B</td>\n",
              "      <td>C</td>\n",
              "      <td>B</td>\n",
              "      <td>B</td>\n",
              "      <td>A</td>\n",
              "      <td>E</td>\n",
              "      <td>E</td>\n",
              "      <td>I</td>\n",
              "      <td>0.296227</td>\n",
              "      <td>0.686757</td>\n",
              "      <td>0.587731</td>\n",
              "      <td>0.392753</td>\n",
              "      <td>0.476739</td>\n",
              "      <td>0.376350</td>\n",
              "      <td>0.337884</td>\n",
              "      <td>0.321832</td>\n",
              "      <td>0.445212</td>\n",
              "      <td>0.290258</td>\n",
              "      <td>0.244476</td>\n",
              "      <td>0.087914</td>\n",
              "      <td>0.301831</td>\n",
              "      <td>0.845702</td>\n",
              "    </tr>\n",
              "    <tr>\n",
              "      <th>1</th>\n",
              "      <td>5</td>\n",
              "      <td>A</td>\n",
              "      <td>B</td>\n",
              "      <td>A</td>\n",
              "      <td>C</td>\n",
              "      <td>B</td>\n",
              "      <td>C</td>\n",
              "      <td>A</td>\n",
              "      <td>E</td>\n",
              "      <td>C</td>\n",
              "      <td>H</td>\n",
              "      <td>0.543707</td>\n",
              "      <td>0.364761</td>\n",
              "      <td>0.452967</td>\n",
              "      <td>0.929645</td>\n",
              "      <td>0.285509</td>\n",
              "      <td>0.860046</td>\n",
              "      <td>0.798712</td>\n",
              "      <td>0.835961</td>\n",
              "      <td>0.391657</td>\n",
              "      <td>0.288276</td>\n",
              "      <td>0.549568</td>\n",
              "      <td>0.905097</td>\n",
              "      <td>0.850684</td>\n",
              "      <td>0.693940</td>\n",
              "    </tr>\n",
              "    <tr>\n",
              "      <th>2</th>\n",
              "      <td>15</td>\n",
              "      <td>B</td>\n",
              "      <td>A</td>\n",
              "      <td>A</td>\n",
              "      <td>A</td>\n",
              "      <td>B</td>\n",
              "      <td>B</td>\n",
              "      <td>A</td>\n",
              "      <td>E</td>\n",
              "      <td>D</td>\n",
              "      <td>K</td>\n",
              "      <td>0.408961</td>\n",
              "      <td>0.296129</td>\n",
              "      <td>0.690999</td>\n",
              "      <td>0.740027</td>\n",
              "      <td>0.697272</td>\n",
              "      <td>0.683600</td>\n",
              "      <td>0.404089</td>\n",
              "      <td>0.879379</td>\n",
              "      <td>0.275549</td>\n",
              "      <td>0.427871</td>\n",
              "      <td>0.491667</td>\n",
              "      <td>0.384315</td>\n",
              "      <td>0.376689</td>\n",
              "      <td>0.508099</td>\n",
              "    </tr>\n",
              "    <tr>\n",
              "      <th>3</th>\n",
              "      <td>16</td>\n",
              "      <td>B</td>\n",
              "      <td>B</td>\n",
              "      <td>A</td>\n",
              "      <td>C</td>\n",
              "      <td>B</td>\n",
              "      <td>D</td>\n",
              "      <td>A</td>\n",
              "      <td>E</td>\n",
              "      <td>A</td>\n",
              "      <td>N</td>\n",
              "      <td>1.031239</td>\n",
              "      <td>0.356062</td>\n",
              "      <td>0.303651</td>\n",
              "      <td>0.895591</td>\n",
              "      <td>0.719306</td>\n",
              "      <td>0.777890</td>\n",
              "      <td>0.730954</td>\n",
              "      <td>0.644315</td>\n",
              "      <td>1.024017</td>\n",
              "      <td>0.391090</td>\n",
              "      <td>0.988340</td>\n",
              "      <td>0.411828</td>\n",
              "      <td>0.393585</td>\n",
              "      <td>0.461372</td>\n",
              "    </tr>\n",
              "    <tr>\n",
              "      <th>4</th>\n",
              "      <td>17</td>\n",
              "      <td>B</td>\n",
              "      <td>B</td>\n",
              "      <td>A</td>\n",
              "      <td>C</td>\n",
              "      <td>B</td>\n",
              "      <td>C</td>\n",
              "      <td>A</td>\n",
              "      <td>E</td>\n",
              "      <td>C</td>\n",
              "      <td>F</td>\n",
              "      <td>0.530447</td>\n",
              "      <td>0.729004</td>\n",
              "      <td>0.281723</td>\n",
              "      <td>0.444698</td>\n",
              "      <td>0.313032</td>\n",
              "      <td>0.431007</td>\n",
              "      <td>0.390992</td>\n",
              "      <td>0.408874</td>\n",
              "      <td>0.447887</td>\n",
              "      <td>0.390253</td>\n",
              "      <td>0.648932</td>\n",
              "      <td>0.385935</td>\n",
              "      <td>0.370401</td>\n",
              "      <td>0.900412</td>\n",
              "    </tr>\n",
              "  </tbody>\n",
              "</table>\n",
              "</div>"
            ],
            "text/plain": [
              "   id cat0 cat1 cat2 cat3  ...     cont9    cont10    cont11    cont12    cont13\n",
              "0   0    B    B    B    C  ...  0.290258  0.244476  0.087914  0.301831  0.845702\n",
              "1   5    A    B    A    C  ...  0.288276  0.549568  0.905097  0.850684  0.693940\n",
              "2  15    B    A    A    A  ...  0.427871  0.491667  0.384315  0.376689  0.508099\n",
              "3  16    B    B    A    C  ...  0.391090  0.988340  0.411828  0.393585  0.461372\n",
              "4  17    B    B    A    C  ...  0.390253  0.648932  0.385935  0.370401  0.900412\n",
              "\n",
              "[5 rows x 25 columns]"
            ]
          },
          "execution_count": null,
          "metadata": {},
          "output_type": "execute_result"
        }
      ]
    },
    {
      "cell_type": "code",
      "metadata": {
        "colab": {
          "background_save": true
        },
        "id": "UvQ606l0ahpH",
        "outputId": "876cfc68-e668-463f-8661-0ae0488980b9"
      },
      "source": [
        "train1.tail()"
      ],
      "execution_count": null,
      "outputs": [
        {
          "data": {
            "text/html": [
              "<div>\n",
              "<style scoped>\n",
              "    .dataframe tbody tr th:only-of-type {\n",
              "        vertical-align: middle;\n",
              "    }\n",
              "\n",
              "    .dataframe tbody tr th {\n",
              "        vertical-align: top;\n",
              "    }\n",
              "\n",
              "    .dataframe thead th {\n",
              "        text-align: right;\n",
              "    }\n",
              "</style>\n",
              "<table border=\"1\" class=\"dataframe\">\n",
              "  <thead>\n",
              "    <tr style=\"text-align: right;\">\n",
              "      <th></th>\n",
              "      <th>id</th>\n",
              "      <th>cat0</th>\n",
              "      <th>cat1</th>\n",
              "      <th>cat2</th>\n",
              "      <th>cat3</th>\n",
              "      <th>cat4</th>\n",
              "      <th>cat5</th>\n",
              "      <th>cat6</th>\n",
              "      <th>cat7</th>\n",
              "      <th>cat8</th>\n",
              "      <th>cat9</th>\n",
              "      <th>cont0</th>\n",
              "      <th>cont1</th>\n",
              "      <th>cont2</th>\n",
              "      <th>cont3</th>\n",
              "      <th>cont4</th>\n",
              "      <th>cont5</th>\n",
              "      <th>cont6</th>\n",
              "      <th>cont7</th>\n",
              "      <th>cont8</th>\n",
              "      <th>cont9</th>\n",
              "      <th>cont10</th>\n",
              "      <th>cont11</th>\n",
              "      <th>cont12</th>\n",
              "      <th>cont13</th>\n",
              "      <th>target</th>\n",
              "    </tr>\n",
              "  </thead>\n",
              "  <tbody>\n",
              "    <tr>\n",
              "      <th>299995</th>\n",
              "      <td>499993</td>\n",
              "      <td>B</td>\n",
              "      <td>B</td>\n",
              "      <td>A</td>\n",
              "      <td>A</td>\n",
              "      <td>B</td>\n",
              "      <td>D</td>\n",
              "      <td>A</td>\n",
              "      <td>E</td>\n",
              "      <td>A</td>\n",
              "      <td>I</td>\n",
              "      <td>0.697124</td>\n",
              "      <td>0.483452</td>\n",
              "      <td>0.297770</td>\n",
              "      <td>0.195821</td>\n",
              "      <td>0.307883</td>\n",
              "      <td>0.769792</td>\n",
              "      <td>0.450538</td>\n",
              "      <td>0.934360</td>\n",
              "      <td>1.005077</td>\n",
              "      <td>0.853726</td>\n",
              "      <td>0.422541</td>\n",
              "      <td>1.063463</td>\n",
              "      <td>0.697685</td>\n",
              "      <td>0.506404</td>\n",
              "      <td>7.945605</td>\n",
              "    </tr>\n",
              "    <tr>\n",
              "      <th>299996</th>\n",
              "      <td>499996</td>\n",
              "      <td>A</td>\n",
              "      <td>B</td>\n",
              "      <td>A</td>\n",
              "      <td>C</td>\n",
              "      <td>B</td>\n",
              "      <td>B</td>\n",
              "      <td>A</td>\n",
              "      <td>E</td>\n",
              "      <td>E</td>\n",
              "      <td>F</td>\n",
              "      <td>0.446200</td>\n",
              "      <td>0.715135</td>\n",
              "      <td>0.610931</td>\n",
              "      <td>0.601730</td>\n",
              "      <td>0.736713</td>\n",
              "      <td>0.528056</td>\n",
              "      <td>0.508502</td>\n",
              "      <td>0.358247</td>\n",
              "      <td>0.257825</td>\n",
              "      <td>0.433525</td>\n",
              "      <td>0.301015</td>\n",
              "      <td>0.268447</td>\n",
              "      <td>0.577055</td>\n",
              "      <td>0.823611</td>\n",
              "      <td>7.326118</td>\n",
              "    </tr>\n",
              "    <tr>\n",
              "      <th>299997</th>\n",
              "      <td>499997</td>\n",
              "      <td>B</td>\n",
              "      <td>B</td>\n",
              "      <td>A</td>\n",
              "      <td>C</td>\n",
              "      <td>B</td>\n",
              "      <td>C</td>\n",
              "      <td>A</td>\n",
              "      <td>E</td>\n",
              "      <td>G</td>\n",
              "      <td>F</td>\n",
              "      <td>0.544279</td>\n",
              "      <td>0.060937</td>\n",
              "      <td>0.590955</td>\n",
              "      <td>0.905308</td>\n",
              "      <td>0.277074</td>\n",
              "      <td>0.688747</td>\n",
              "      <td>0.372425</td>\n",
              "      <td>0.364936</td>\n",
              "      <td>0.383224</td>\n",
              "      <td>0.551825</td>\n",
              "      <td>0.661007</td>\n",
              "      <td>0.629606</td>\n",
              "      <td>0.714139</td>\n",
              "      <td>0.245732</td>\n",
              "      <td>8.706755</td>\n",
              "    </tr>\n",
              "    <tr>\n",
              "      <th>299998</th>\n",
              "      <td>499998</td>\n",
              "      <td>A</td>\n",
              "      <td>B</td>\n",
              "      <td>A</td>\n",
              "      <td>C</td>\n",
              "      <td>B</td>\n",
              "      <td>B</td>\n",
              "      <td>A</td>\n",
              "      <td>E</td>\n",
              "      <td>E</td>\n",
              "      <td>I</td>\n",
              "      <td>0.300062</td>\n",
              "      <td>0.613118</td>\n",
              "      <td>0.285213</td>\n",
              "      <td>0.406851</td>\n",
              "      <td>0.805963</td>\n",
              "      <td>0.344404</td>\n",
              "      <td>0.424243</td>\n",
              "      <td>0.382028</td>\n",
              "      <td>0.468819</td>\n",
              "      <td>0.351036</td>\n",
              "      <td>0.288768</td>\n",
              "      <td>0.611169</td>\n",
              "      <td>0.380254</td>\n",
              "      <td>0.332030</td>\n",
              "      <td>7.229569</td>\n",
              "    </tr>\n",
              "    <tr>\n",
              "      <th>299999</th>\n",
              "      <td>499999</td>\n",
              "      <td>A</td>\n",
              "      <td>A</td>\n",
              "      <td>A</td>\n",
              "      <td>C</td>\n",
              "      <td>A</td>\n",
              "      <td>D</td>\n",
              "      <td>A</td>\n",
              "      <td>E</td>\n",
              "      <td>A</td>\n",
              "      <td>O</td>\n",
              "      <td>0.857752</td>\n",
              "      <td>0.628528</td>\n",
              "      <td>0.539625</td>\n",
              "      <td>0.396143</td>\n",
              "      <td>0.276785</td>\n",
              "      <td>0.565347</td>\n",
              "      <td>0.328669</td>\n",
              "      <td>0.789165</td>\n",
              "      <td>0.960406</td>\n",
              "      <td>0.776019</td>\n",
              "      <td>0.734707</td>\n",
              "      <td>0.484392</td>\n",
              "      <td>0.639754</td>\n",
              "      <td>0.689317</td>\n",
              "      <td>8.631146</td>\n",
              "    </tr>\n",
              "  </tbody>\n",
              "</table>\n",
              "</div>"
            ],
            "text/plain": [
              "            id cat0 cat1 cat2  ...    cont11    cont12    cont13    target\n",
              "299995  499993    B    B    A  ...  1.063463  0.697685  0.506404  7.945605\n",
              "299996  499996    A    B    A  ...  0.268447  0.577055  0.823611  7.326118\n",
              "299997  499997    B    B    A  ...  0.629606  0.714139  0.245732  8.706755\n",
              "299998  499998    A    B    A  ...  0.611169  0.380254  0.332030  7.229569\n",
              "299999  499999    A    A    A  ...  0.484392  0.639754  0.689317  8.631146\n",
              "\n",
              "[5 rows x 26 columns]"
            ]
          },
          "execution_count": null,
          "metadata": {},
          "output_type": "execute_result"
        }
      ]
    },
    {
      "cell_type": "code",
      "metadata": {
        "colab": {
          "background_save": true
        },
        "id": "ZcyGdD7Xai4C",
        "outputId": "2c842956-9e4c-40fd-98ee-c580eded0f88"
      },
      "source": [
        "test.tail()"
      ],
      "execution_count": null,
      "outputs": [
        {
          "data": {
            "text/html": [
              "<div>\n",
              "<style scoped>\n",
              "    .dataframe tbody tr th:only-of-type {\n",
              "        vertical-align: middle;\n",
              "    }\n",
              "\n",
              "    .dataframe tbody tr th {\n",
              "        vertical-align: top;\n",
              "    }\n",
              "\n",
              "    .dataframe thead th {\n",
              "        text-align: right;\n",
              "    }\n",
              "</style>\n",
              "<table border=\"1\" class=\"dataframe\">\n",
              "  <thead>\n",
              "    <tr style=\"text-align: right;\">\n",
              "      <th></th>\n",
              "      <th>id</th>\n",
              "      <th>cat0</th>\n",
              "      <th>cat1</th>\n",
              "      <th>cat2</th>\n",
              "      <th>cat3</th>\n",
              "      <th>cat4</th>\n",
              "      <th>cat5</th>\n",
              "      <th>cat6</th>\n",
              "      <th>cat7</th>\n",
              "      <th>cat8</th>\n",
              "      <th>cat9</th>\n",
              "      <th>cont0</th>\n",
              "      <th>cont1</th>\n",
              "      <th>cont2</th>\n",
              "      <th>cont3</th>\n",
              "      <th>cont4</th>\n",
              "      <th>cont5</th>\n",
              "      <th>cont6</th>\n",
              "      <th>cont7</th>\n",
              "      <th>cont8</th>\n",
              "      <th>cont9</th>\n",
              "      <th>cont10</th>\n",
              "      <th>cont11</th>\n",
              "      <th>cont12</th>\n",
              "      <th>cont13</th>\n",
              "    </tr>\n",
              "  </thead>\n",
              "  <tbody>\n",
              "    <tr>\n",
              "      <th>199995</th>\n",
              "      <td>499987</td>\n",
              "      <td>B</td>\n",
              "      <td>A</td>\n",
              "      <td>A</td>\n",
              "      <td>C</td>\n",
              "      <td>B</td>\n",
              "      <td>D</td>\n",
              "      <td>A</td>\n",
              "      <td>E</td>\n",
              "      <td>E</td>\n",
              "      <td>I</td>\n",
              "      <td>0.505445</td>\n",
              "      <td>0.710839</td>\n",
              "      <td>0.225285</td>\n",
              "      <td>0.932926</td>\n",
              "      <td>0.287454</td>\n",
              "      <td>0.543800</td>\n",
              "      <td>0.682378</td>\n",
              "      <td>1.028978</td>\n",
              "      <td>1.022741</td>\n",
              "      <td>0.683903</td>\n",
              "      <td>0.877273</td>\n",
              "      <td>0.532410</td>\n",
              "      <td>0.605397</td>\n",
              "      <td>0.884581</td>\n",
              "    </tr>\n",
              "    <tr>\n",
              "      <th>199996</th>\n",
              "      <td>499990</td>\n",
              "      <td>B</td>\n",
              "      <td>A</td>\n",
              "      <td>A</td>\n",
              "      <td>C</td>\n",
              "      <td>B</td>\n",
              "      <td>B</td>\n",
              "      <td>A</td>\n",
              "      <td>E</td>\n",
              "      <td>C</td>\n",
              "      <td>F</td>\n",
              "      <td>0.350751</td>\n",
              "      <td>0.887132</td>\n",
              "      <td>0.346864</td>\n",
              "      <td>0.284264</td>\n",
              "      <td>0.794881</td>\n",
              "      <td>0.432778</td>\n",
              "      <td>0.389775</td>\n",
              "      <td>0.359871</td>\n",
              "      <td>0.550013</td>\n",
              "      <td>0.492082</td>\n",
              "      <td>0.202295</td>\n",
              "      <td>0.416875</td>\n",
              "      <td>0.406205</td>\n",
              "      <td>0.758665</td>\n",
              "    </tr>\n",
              "    <tr>\n",
              "      <th>199997</th>\n",
              "      <td>499991</td>\n",
              "      <td>A</td>\n",
              "      <td>B</td>\n",
              "      <td>B</td>\n",
              "      <td>C</td>\n",
              "      <td>B</td>\n",
              "      <td>B</td>\n",
              "      <td>A</td>\n",
              "      <td>E</td>\n",
              "      <td>C</td>\n",
              "      <td>I</td>\n",
              "      <td>0.378393</td>\n",
              "      <td>0.549489</td>\n",
              "      <td>0.411319</td>\n",
              "      <td>0.437275</td>\n",
              "      <td>0.514487</td>\n",
              "      <td>0.060997</td>\n",
              "      <td>0.171741</td>\n",
              "      <td>0.317185</td>\n",
              "      <td>0.150340</td>\n",
              "      <td>0.122109</td>\n",
              "      <td>0.390524</td>\n",
              "      <td>0.334026</td>\n",
              "      <td>0.378987</td>\n",
              "      <td>0.839416</td>\n",
              "    </tr>\n",
              "    <tr>\n",
              "      <th>199998</th>\n",
              "      <td>499994</td>\n",
              "      <td>A</td>\n",
              "      <td>A</td>\n",
              "      <td>A</td>\n",
              "      <td>C</td>\n",
              "      <td>B</td>\n",
              "      <td>D</td>\n",
              "      <td>A</td>\n",
              "      <td>D</td>\n",
              "      <td>A</td>\n",
              "      <td>F</td>\n",
              "      <td>1.014149</td>\n",
              "      <td>0.430139</td>\n",
              "      <td>0.067896</td>\n",
              "      <td>0.393523</td>\n",
              "      <td>0.286144</td>\n",
              "      <td>1.061710</td>\n",
              "      <td>0.819811</td>\n",
              "      <td>0.901241</td>\n",
              "      <td>0.555339</td>\n",
              "      <td>0.844315</td>\n",
              "      <td>0.894193</td>\n",
              "      <td>0.794102</td>\n",
              "      <td>0.844279</td>\n",
              "      <td>0.890473</td>\n",
              "    </tr>\n",
              "    <tr>\n",
              "      <th>199999</th>\n",
              "      <td>499995</td>\n",
              "      <td>A</td>\n",
              "      <td>A</td>\n",
              "      <td>A</td>\n",
              "      <td>C</td>\n",
              "      <td>B</td>\n",
              "      <td>D</td>\n",
              "      <td>A</td>\n",
              "      <td>E</td>\n",
              "      <td>A</td>\n",
              "      <td>J</td>\n",
              "      <td>0.631521</td>\n",
              "      <td>0.355393</td>\n",
              "      <td>0.922337</td>\n",
              "      <td>0.769672</td>\n",
              "      <td>0.286755</td>\n",
              "      <td>1.065725</td>\n",
              "      <td>0.687682</td>\n",
              "      <td>0.654738</td>\n",
              "      <td>0.574575</td>\n",
              "      <td>0.617467</td>\n",
              "      <td>0.694336</td>\n",
              "      <td>0.745698</td>\n",
              "      <td>0.568525</td>\n",
              "      <td>0.783568</td>\n",
              "    </tr>\n",
              "  </tbody>\n",
              "</table>\n",
              "</div>"
            ],
            "text/plain": [
              "            id cat0 cat1 cat2  ...    cont10    cont11    cont12    cont13\n",
              "199995  499987    B    A    A  ...  0.877273  0.532410  0.605397  0.884581\n",
              "199996  499990    B    A    A  ...  0.202295  0.416875  0.406205  0.758665\n",
              "199997  499991    A    B    B  ...  0.390524  0.334026  0.378987  0.839416\n",
              "199998  499994    A    A    A  ...  0.894193  0.794102  0.844279  0.890473\n",
              "199999  499995    A    A    A  ...  0.694336  0.745698  0.568525  0.783568\n",
              "\n",
              "[5 rows x 25 columns]"
            ]
          },
          "execution_count": null,
          "metadata": {},
          "output_type": "execute_result"
        }
      ]
    },
    {
      "cell_type": "code",
      "metadata": {
        "colab": {
          "background_save": true
        },
        "id": "WwqivSVnaj2G",
        "outputId": "ab167971-0352-4aa8-cb23-57750e295198"
      },
      "source": [
        "train1.dtypes"
      ],
      "execution_count": null,
      "outputs": [
        {
          "data": {
            "text/plain": [
              "id          int64\n",
              "cat0       object\n",
              "cat1       object\n",
              "cat2       object\n",
              "cat3       object\n",
              "cat4       object\n",
              "cat5       object\n",
              "cat6       object\n",
              "cat7       object\n",
              "cat8       object\n",
              "cat9       object\n",
              "cont0     float64\n",
              "cont1     float64\n",
              "cont2     float64\n",
              "cont3     float64\n",
              "cont4     float64\n",
              "cont5     float64\n",
              "cont6     float64\n",
              "cont7     float64\n",
              "cont8     float64\n",
              "cont9     float64\n",
              "cont10    float64\n",
              "cont11    float64\n",
              "cont12    float64\n",
              "cont13    float64\n",
              "target    float64\n",
              "dtype: object"
            ]
          },
          "execution_count": null,
          "metadata": {},
          "output_type": "execute_result"
        }
      ]
    },
    {
      "cell_type": "code",
      "metadata": {
        "colab": {
          "background_save": true
        },
        "id": "0nMGrl32aqCF",
        "outputId": "51796f30-5e89-4bbc-9f55-f23b3ed1a3d6"
      },
      "source": [
        "test.dtypes"
      ],
      "execution_count": null,
      "outputs": [
        {
          "data": {
            "text/plain": [
              "id          int64\n",
              "cat0       object\n",
              "cat1       object\n",
              "cat2       object\n",
              "cat3       object\n",
              "cat4       object\n",
              "cat5       object\n",
              "cat6       object\n",
              "cat7       object\n",
              "cat8       object\n",
              "cat9       object\n",
              "cont0     float64\n",
              "cont1     float64\n",
              "cont2     float64\n",
              "cont3     float64\n",
              "cont4     float64\n",
              "cont5     float64\n",
              "cont6     float64\n",
              "cont7     float64\n",
              "cont8     float64\n",
              "cont9     float64\n",
              "cont10    float64\n",
              "cont11    float64\n",
              "cont12    float64\n",
              "cont13    float64\n",
              "dtype: object"
            ]
          },
          "execution_count": null,
          "metadata": {},
          "output_type": "execute_result"
        }
      ]
    },
    {
      "cell_type": "code",
      "metadata": {
        "colab": {
          "background_save": true
        },
        "id": "65codOUzarFQ",
        "outputId": "d092fec1-98ec-4f30-a140-ffb63fbe9634"
      },
      "source": [
        "train1.shape"
      ],
      "execution_count": null,
      "outputs": [
        {
          "data": {
            "text/plain": [
              "(300000, 26)"
            ]
          },
          "execution_count": null,
          "metadata": {},
          "output_type": "execute_result"
        }
      ]
    },
    {
      "cell_type": "code",
      "metadata": {
        "colab": {
          "background_save": true
        },
        "id": "GwQeJk7EasJB",
        "outputId": "729c4c65-41c7-4216-f428-3080560b0eab"
      },
      "source": [
        "test.shape"
      ],
      "execution_count": null,
      "outputs": [
        {
          "data": {
            "text/plain": [
              "(200000, 25)"
            ]
          },
          "execution_count": null,
          "metadata": {},
          "output_type": "execute_result"
        }
      ]
    },
    {
      "cell_type": "code",
      "metadata": {
        "colab": {
          "background_save": true
        },
        "id": "X0kX_Afgas6O",
        "outputId": "fe2cabd1-5f09-47df-fa44-e1abcaaf0693"
      },
      "source": [
        "train1.describe"
      ],
      "execution_count": null,
      "outputs": [
        {
          "data": {
            "text/plain": [
              "<bound method NDFrame.describe of             id cat0 cat1 cat2  ...    cont11    cont12    cont13    target\n",
              "0            1    B    B    B  ...  0.377873  0.322401  0.869850  8.113634\n",
              "1            2    B    B    A  ...  0.921701  0.261975  0.465083  8.481233\n",
              "2            3    A    A    A  ...  0.620126  0.541474  0.763846  8.364351\n",
              "3            4    B    B    A  ...  0.714610  0.540150  0.280682  8.049253\n",
              "4            6    A    A    A  ...  0.776742  0.625849  0.250823  7.972260\n",
              "...        ...  ...  ...  ...  ...       ...       ...       ...       ...\n",
              "299995  499993    B    B    A  ...  1.063463  0.697685  0.506404  7.945605\n",
              "299996  499996    A    B    A  ...  0.268447  0.577055  0.823611  7.326118\n",
              "299997  499997    B    B    A  ...  0.629606  0.714139  0.245732  8.706755\n",
              "299998  499998    A    B    A  ...  0.611169  0.380254  0.332030  7.229569\n",
              "299999  499999    A    A    A  ...  0.484392  0.639754  0.689317  8.631146\n",
              "\n",
              "[300000 rows x 26 columns]>"
            ]
          },
          "execution_count": null,
          "metadata": {},
          "output_type": "execute_result"
        }
      ]
    },
    {
      "cell_type": "code",
      "metadata": {
        "colab": {
          "background_save": true
        },
        "id": "VMXrm-Rpavax",
        "outputId": "9ff8e14b-ab6d-4388-d780-62b80cdcf417"
      },
      "source": [
        "test.describe"
      ],
      "execution_count": null,
      "outputs": [
        {
          "data": {
            "text/plain": [
              "<bound method NDFrame.describe of             id cat0 cat1 cat2  ...    cont10    cont11    cont12    cont13\n",
              "0            0    B    B    B  ...  0.244476  0.087914  0.301831  0.845702\n",
              "1            5    A    B    A  ...  0.549568  0.905097  0.850684  0.693940\n",
              "2           15    B    A    A  ...  0.491667  0.384315  0.376689  0.508099\n",
              "3           16    B    B    A  ...  0.988340  0.411828  0.393585  0.461372\n",
              "4           17    B    B    A  ...  0.648932  0.385935  0.370401  0.900412\n",
              "...        ...  ...  ...  ...  ...       ...       ...       ...       ...\n",
              "199995  499987    B    A    A  ...  0.877273  0.532410  0.605397  0.884581\n",
              "199996  499990    B    A    A  ...  0.202295  0.416875  0.406205  0.758665\n",
              "199997  499991    A    B    B  ...  0.390524  0.334026  0.378987  0.839416\n",
              "199998  499994    A    A    A  ...  0.894193  0.794102  0.844279  0.890473\n",
              "199999  499995    A    A    A  ...  0.694336  0.745698  0.568525  0.783568\n",
              "\n",
              "[200000 rows x 25 columns]>"
            ]
          },
          "execution_count": null,
          "metadata": {},
          "output_type": "execute_result"
        }
      ]
    },
    {
      "cell_type": "code",
      "metadata": {
        "colab": {
          "background_save": true
        },
        "id": "Ko3ckBV6awdl",
        "outputId": "c982a4b3-fb34-4143-c528-8d3cdf72795f"
      },
      "source": [
        "train1.corr"
      ],
      "execution_count": null,
      "outputs": [
        {
          "data": {
            "text/plain": [
              "<bound method DataFrame.corr of             id cat0 cat1 cat2  ...    cont11    cont12    cont13    target\n",
              "0            1    B    B    B  ...  0.377873  0.322401  0.869850  8.113634\n",
              "1            2    B    B    A  ...  0.921701  0.261975  0.465083  8.481233\n",
              "2            3    A    A    A  ...  0.620126  0.541474  0.763846  8.364351\n",
              "3            4    B    B    A  ...  0.714610  0.540150  0.280682  8.049253\n",
              "4            6    A    A    A  ...  0.776742  0.625849  0.250823  7.972260\n",
              "...        ...  ...  ...  ...  ...       ...       ...       ...       ...\n",
              "299995  499993    B    B    A  ...  1.063463  0.697685  0.506404  7.945605\n",
              "299996  499996    A    B    A  ...  0.268447  0.577055  0.823611  7.326118\n",
              "299997  499997    B    B    A  ...  0.629606  0.714139  0.245732  8.706755\n",
              "299998  499998    A    B    A  ...  0.611169  0.380254  0.332030  7.229569\n",
              "299999  499999    A    A    A  ...  0.484392  0.639754  0.689317  8.631146\n",
              "\n",
              "[300000 rows x 26 columns]>"
            ]
          },
          "execution_count": null,
          "metadata": {},
          "output_type": "execute_result"
        }
      ]
    },
    {
      "cell_type": "code",
      "metadata": {
        "colab": {
          "background_save": true
        },
        "id": "3mTlY4JxayDh",
        "outputId": "e9016c27-fb73-431a-ea26-2644941eb363"
      },
      "source": [
        "test.corr"
      ],
      "execution_count": null,
      "outputs": [
        {
          "data": {
            "text/plain": [
              "<bound method DataFrame.corr of             id cat0 cat1 cat2  ...    cont10    cont11    cont12    cont13\n",
              "0            0    B    B    B  ...  0.244476  0.087914  0.301831  0.845702\n",
              "1            5    A    B    A  ...  0.549568  0.905097  0.850684  0.693940\n",
              "2           15    B    A    A  ...  0.491667  0.384315  0.376689  0.508099\n",
              "3           16    B    B    A  ...  0.988340  0.411828  0.393585  0.461372\n",
              "4           17    B    B    A  ...  0.648932  0.385935  0.370401  0.900412\n",
              "...        ...  ...  ...  ...  ...       ...       ...       ...       ...\n",
              "199995  499987    B    A    A  ...  0.877273  0.532410  0.605397  0.884581\n",
              "199996  499990    B    A    A  ...  0.202295  0.416875  0.406205  0.758665\n",
              "199997  499991    A    B    B  ...  0.390524  0.334026  0.378987  0.839416\n",
              "199998  499994    A    A    A  ...  0.894193  0.794102  0.844279  0.890473\n",
              "199999  499995    A    A    A  ...  0.694336  0.745698  0.568525  0.783568\n",
              "\n",
              "[200000 rows x 25 columns]>"
            ]
          },
          "execution_count": null,
          "metadata": {},
          "output_type": "execute_result"
        }
      ]
    },
    {
      "cell_type": "code",
      "metadata": {
        "colab": {
          "background_save": true
        },
        "id": "3hVuZsSIa2V5",
        "outputId": "bb2f20da-90a6-4580-b0d6-57bc640386bd"
      },
      "source": [
        "train1.isnull().sum()"
      ],
      "execution_count": null,
      "outputs": [
        {
          "data": {
            "text/plain": [
              "id        0\n",
              "cat0      0\n",
              "cat1      0\n",
              "cat2      0\n",
              "cat3      0\n",
              "cat4      0\n",
              "cat5      0\n",
              "cat6      0\n",
              "cat7      0\n",
              "cat8      0\n",
              "cat9      0\n",
              "cont0     0\n",
              "cont1     0\n",
              "cont2     0\n",
              "cont3     0\n",
              "cont4     0\n",
              "cont5     0\n",
              "cont6     0\n",
              "cont7     0\n",
              "cont8     0\n",
              "cont9     0\n",
              "cont10    0\n",
              "cont11    0\n",
              "cont12    0\n",
              "cont13    0\n",
              "target    0\n",
              "dtype: int64"
            ]
          },
          "execution_count": null,
          "metadata": {},
          "output_type": "execute_result"
        }
      ]
    },
    {
      "cell_type": "code",
      "metadata": {
        "colab": {
          "background_save": true
        },
        "id": "8sDNqOFXazAI",
        "outputId": "9554b83d-e3b2-451e-d780-903b41e000f6"
      },
      "source": [
        "test.isnull().sum()"
      ],
      "execution_count": null,
      "outputs": [
        {
          "data": {
            "text/plain": [
              "id        0\n",
              "cat0      0\n",
              "cat1      0\n",
              "cat2      0\n",
              "cat3      0\n",
              "cat4      0\n",
              "cat5      0\n",
              "cat6      0\n",
              "cat7      0\n",
              "cat8      0\n",
              "cat9      0\n",
              "cont0     0\n",
              "cont1     0\n",
              "cont2     0\n",
              "cont3     0\n",
              "cont4     0\n",
              "cont5     0\n",
              "cont6     0\n",
              "cont7     0\n",
              "cont8     0\n",
              "cont9     0\n",
              "cont10    0\n",
              "cont11    0\n",
              "cont12    0\n",
              "cont13    0\n",
              "dtype: int64"
            ]
          },
          "execution_count": null,
          "metadata": {},
          "output_type": "execute_result"
        }
      ]
    },
    {
      "cell_type": "code",
      "metadata": {
        "colab": {
          "background_save": true
        },
        "id": "nWtqV3yta7En"
      },
      "source": [
        "def print_unique_col_values(train):\n",
        "       for column in train:\n",
        "            if train[column].dtypes=='object':\n",
        "                print(f'{column}: {train[column].unique()}')"
      ],
      "execution_count": null,
      "outputs": []
    },
    {
      "cell_type": "code",
      "metadata": {
        "colab": {
          "background_save": true
        },
        "id": "ScWAnWAqbBMb",
        "outputId": "2c51b2d0-a0f4-44d2-9d96-3b8825850692"
      },
      "source": [
        "print_unique_col_values(train1)"
      ],
      "execution_count": null,
      "outputs": [
        {
          "name": "stdout",
          "output_type": "stream",
          "text": [
            "cat0: ['B' 'A']\n",
            "cat1: ['B' 'A']\n",
            "cat2: ['B' 'A']\n",
            "cat3: ['C' 'A' 'D' 'B']\n",
            "cat4: ['B' 'C' 'A' 'D']\n",
            "cat5: ['B' 'D' 'C' 'A']\n",
            "cat6: ['A' 'B' 'C' 'H' 'D' 'I' 'G' 'E']\n",
            "cat7: ['E' 'F' 'D' 'B' 'G' 'C' 'A' 'I']\n",
            "cat8: ['C' 'A' 'G' 'E' 'F' 'D' 'B']\n",
            "cat9: ['N' 'O' 'F' 'K' 'M' 'I' 'G' 'H' 'L' 'B' 'A' 'J' 'D' 'C' 'E']\n"
          ]
        }
      ]
    },
    {
      "cell_type": "code",
      "metadata": {
        "colab": {
          "background_save": true
        },
        "id": "s5xgLMqJbF1H"
      },
      "source": [
        "def print_unique_col_values(test):\n",
        "       for column in test:\n",
        "            if test[column].dtypes=='object':\n",
        "                print(f'{column}: {test[column].unique()}')"
      ],
      "execution_count": null,
      "outputs": []
    },
    {
      "cell_type": "code",
      "metadata": {
        "colab": {
          "background_save": true
        },
        "id": "pk1uMMzPbNQC",
        "outputId": "d68eebbc-12bd-4d4c-be70-91c2e116a108"
      },
      "source": [
        "print_unique_col_values(test)"
      ],
      "execution_count": null,
      "outputs": [
        {
          "name": "stdout",
          "output_type": "stream",
          "text": [
            "cat0: ['B' 'A']\n",
            "cat1: ['B' 'A']\n",
            "cat2: ['B' 'A']\n",
            "cat3: ['C' 'A' 'D' 'B']\n",
            "cat4: ['B' 'C' 'D' 'A']\n",
            "cat5: ['B' 'C' 'D' 'A']\n",
            "cat6: ['A' 'B' 'C' 'I' 'D' 'H' 'E' 'G']\n",
            "cat7: ['E' 'G' 'B' 'D' 'F' 'A' 'C' 'I']\n",
            "cat8: ['E' 'C' 'D' 'A' 'G' 'F' 'B']\n",
            "cat9: ['I' 'H' 'K' 'N' 'F' 'G' 'A' 'J' 'M' 'B' 'L' 'C' 'O' 'E' 'D']\n"
          ]
        }
      ]
    },
    {
      "cell_type": "code",
      "metadata": {
        "colab": {
          "background_save": true
        },
        "id": "y7EBDtD3Hj88",
        "outputId": "baed377b-e586-4baf-9b92-d8951a7a73ee"
      },
      "source": [
        "from sklearn import preprocessing\n",
        "from sklearn import utils\n",
        "\n",
        "lab_enc = preprocessing.LabelEncoder()\n",
        "train = lab_enc.fit_transform(train1)"
      ],
      "execution_count": null,
      "outputs": [
        {
          "ename": "ValueError",
          "evalue": "ignored",
          "output_type": "error",
          "traceback": [
            "\u001b[0;31m---------------------------------------------------------------------------\u001b[0m",
            "\u001b[0;31mValueError\u001b[0m                                Traceback (most recent call last)",
            "\u001b[0;32m<ipython-input-24-196426728b7a>\u001b[0m in \u001b[0;36m<module>\u001b[0;34m()\u001b[0m\n\u001b[1;32m      3\u001b[0m \u001b[0;34m\u001b[0m\u001b[0m\n\u001b[1;32m      4\u001b[0m \u001b[0mlab_enc\u001b[0m \u001b[0;34m=\u001b[0m \u001b[0mpreprocessing\u001b[0m\u001b[0;34m.\u001b[0m\u001b[0mLabelEncoder\u001b[0m\u001b[0;34m(\u001b[0m\u001b[0;34m)\u001b[0m\u001b[0;34m\u001b[0m\u001b[0;34m\u001b[0m\u001b[0m\n\u001b[0;32m----> 5\u001b[0;31m \u001b[0mtrain\u001b[0m \u001b[0;34m=\u001b[0m \u001b[0mlab_enc\u001b[0m\u001b[0;34m.\u001b[0m\u001b[0mfit_transform\u001b[0m\u001b[0;34m(\u001b[0m\u001b[0mtrain1\u001b[0m\u001b[0;34m)\u001b[0m\u001b[0;34m\u001b[0m\u001b[0;34m\u001b[0m\u001b[0m\n\u001b[0m",
            "\u001b[0;32m/usr/local/lib/python3.7/dist-packages/sklearn/preprocessing/_label.py\u001b[0m in \u001b[0;36mfit_transform\u001b[0;34m(self, y)\u001b[0m\n\u001b[1;32m    249\u001b[0m         \u001b[0my\u001b[0m \u001b[0;34m:\u001b[0m \u001b[0marray\u001b[0m\u001b[0;34m-\u001b[0m\u001b[0mlike\u001b[0m \u001b[0mof\u001b[0m \u001b[0mshape\u001b[0m \u001b[0;34m[\u001b[0m\u001b[0mn_samples\u001b[0m\u001b[0;34m]\u001b[0m\u001b[0;34m\u001b[0m\u001b[0;34m\u001b[0m\u001b[0m\n\u001b[1;32m    250\u001b[0m         \"\"\"\n\u001b[0;32m--> 251\u001b[0;31m         \u001b[0my\u001b[0m \u001b[0;34m=\u001b[0m \u001b[0mcolumn_or_1d\u001b[0m\u001b[0;34m(\u001b[0m\u001b[0my\u001b[0m\u001b[0;34m,\u001b[0m \u001b[0mwarn\u001b[0m\u001b[0;34m=\u001b[0m\u001b[0;32mTrue\u001b[0m\u001b[0;34m)\u001b[0m\u001b[0;34m\u001b[0m\u001b[0;34m\u001b[0m\u001b[0m\n\u001b[0m\u001b[1;32m    252\u001b[0m         \u001b[0mself\u001b[0m\u001b[0;34m.\u001b[0m\u001b[0mclasses_\u001b[0m\u001b[0;34m,\u001b[0m \u001b[0my\u001b[0m \u001b[0;34m=\u001b[0m \u001b[0m_encode\u001b[0m\u001b[0;34m(\u001b[0m\u001b[0my\u001b[0m\u001b[0;34m,\u001b[0m \u001b[0mencode\u001b[0m\u001b[0;34m=\u001b[0m\u001b[0;32mTrue\u001b[0m\u001b[0;34m)\u001b[0m\u001b[0;34m\u001b[0m\u001b[0;34m\u001b[0m\u001b[0m\n\u001b[1;32m    253\u001b[0m         \u001b[0;32mreturn\u001b[0m \u001b[0my\u001b[0m\u001b[0;34m\u001b[0m\u001b[0;34m\u001b[0m\u001b[0m\n",
            "\u001b[0;32m/usr/local/lib/python3.7/dist-packages/sklearn/utils/validation.py\u001b[0m in \u001b[0;36mcolumn_or_1d\u001b[0;34m(y, warn)\u001b[0m\n\u001b[1;32m    795\u001b[0m         \u001b[0;32mreturn\u001b[0m \u001b[0mnp\u001b[0m\u001b[0;34m.\u001b[0m\u001b[0mravel\u001b[0m\u001b[0;34m(\u001b[0m\u001b[0my\u001b[0m\u001b[0;34m)\u001b[0m\u001b[0;34m\u001b[0m\u001b[0;34m\u001b[0m\u001b[0m\n\u001b[1;32m    796\u001b[0m \u001b[0;34m\u001b[0m\u001b[0m\n\u001b[0;32m--> 797\u001b[0;31m     \u001b[0;32mraise\u001b[0m \u001b[0mValueError\u001b[0m\u001b[0;34m(\u001b[0m\u001b[0;34m\"bad input shape {0}\"\u001b[0m\u001b[0;34m.\u001b[0m\u001b[0mformat\u001b[0m\u001b[0;34m(\u001b[0m\u001b[0mshape\u001b[0m\u001b[0;34m)\u001b[0m\u001b[0;34m)\u001b[0m\u001b[0;34m\u001b[0m\u001b[0;34m\u001b[0m\u001b[0m\n\u001b[0m\u001b[1;32m    798\u001b[0m \u001b[0;34m\u001b[0m\u001b[0m\n\u001b[1;32m    799\u001b[0m \u001b[0;34m\u001b[0m\u001b[0m\n",
            "\u001b[0;31mValueError\u001b[0m: bad input shape (300000, 26)"
          ]
        }
      ]
    },
    {
      "cell_type": "code",
      "metadata": {
        "colab": {
          "background_save": true
        },
        "id": "Chq4JWj8uGdo"
      },
      "source": [
        "from sklearn                        import metrics, svm\n",
        "from sklearn.linear_model           import LinearRegression\n",
        "from sklearn.linear_model           import LogisticRegression\n",
        "from sklearn.tree                   import DecisionTreeClassifier\n",
        "from sklearn.neighbors              import KNeighborsClassifier\n",
        "from sklearn.discriminant_analysis  import LinearDiscriminantAnalysis\n",
        "from sklearn.naive_bayes            import GaussianNB\n",
        "from sklearn.svm                    import SVC\n"
      ],
      "execution_count": null,
      "outputs": []
    },
    {
      "cell_type": "code",
      "metadata": {
        "colab": {
          "background_save": true
        },
        "id": "J2gVKEy4bRbw"
      },
      "source": [
        "import pandas as pd\n",
        "from sklearn.model_selection import train_test_split\n",
        "\n",
        "# Read the data\n",
        "X = pd.read_csv('/content/drive/MyDrive/train.csv')\n",
        "X_test_full = pd.read_csv('/content/drive/MyDrive/test.csv')\n",
        "# Remove rows with missing target, separate target from predictors\n",
        "X.dropna(axis=0, subset=['target'], inplace=True)\n",
        "y = X.target             \n",
        "X.drop(['target'], axis=1, inplace=True)\n",
        "\n",
        "# Break off validation set from training data\n",
        "X_train_full, X_valid_full, y_train, y_valid = train_test_split(X, y, train_size=0.8, test_size=0.2,\n",
        "                                                                random_state=0)\n",
        "\n",
        "# \"Cardinality\" means the number of unique values in a column\n",
        "# Select categorical columns with relatively low cardinality (convenient but arbitrary)\n",
        "low_cardinality_cols = [cname for cname in X_train_full.columns if X_train_full[cname].nunique() < 10 and \n",
        "                        X_train_full[cname].dtype == \"object\"]\n",
        "\n",
        "# Select numeric columns\n",
        "numeric_cols = [cname for cname in X_train_full.columns if X_train_full[cname].dtype in ['int64', 'float64']]\n",
        "\n",
        "# Keep selected columns only\n",
        "my_cols = low_cardinality_cols + numeric_cols\n",
        "X_train = X_train_full[my_cols].copy()\n",
        "X_valid = X_valid_full[my_cols].copy()\n",
        "X_test = X_test_full[my_cols].copy()\n",
        "\n",
        "# One-hot encode the data (to shorten the code, we use pandas)\n",
        "X_train = pd.get_dummies(X_train)\n",
        "X_valid = pd.get_dummies(X_valid)\n",
        "X_test = pd.get_dummies(X_test)\n",
        "X_train, X_valid = X_train.align(X_valid, join='left', axis=1)\n",
        "X_train, X_test = X_train.align(X_test, join='left', axis=1)"
      ],
      "execution_count": null,
      "outputs": []
    },
    {
      "cell_type": "code",
      "metadata": {
        "colab": {
          "background_save": true
        },
        "id": "dFygBGkAbcuV"
      },
      "source": [
        "from sklearn.ensemble import RandomForestRegressor"
      ],
      "execution_count": null,
      "outputs": []
    },
    {
      "cell_type": "code",
      "metadata": {
        "colab": {
          "background_save": true
        },
        "id": "FJNSNwTmbyS4"
      },
      "source": [
        "from sklearn.metrics import mean_absolute_error"
      ],
      "execution_count": null,
      "outputs": []
    },
    {
      "cell_type": "code",
      "metadata": {
        "colab": {
          "background_save": true
        },
        "id": "x2F03C6rb1Xx"
      },
      "source": [
        "# Define the model\n",
        "my_model = DecisionTreeClassifier()\n",
        "\n",
        "# Fit the model\n",
        "my_model.fit(X_train, y_train)\n",
        "\n",
        "# Get predictions\n",
        "predictions = my_model.predict(X_test) \n",
        "\n",
        "# Calculate MAE\n",
        "#mae = mean_absolute_error(predictions, y_valid) \n",
        "\n",
        "# Uncomment to print MAE\n",
        "#print(\"Mean Absolute Error:\" , mae)"
      ],
      "execution_count": null,
      "outputs": []
    },
    {
      "cell_type": "code",
      "metadata": {
        "colab": {
          "background_save": true
        },
        "id": "xp1s4XlTb6Vs"
      },
      "source": [
        "output = pd.DataFrame({'id': X_test.id,\n",
        "                       'target': predictions})\n",
        "output.to_csv('submission_6.csv', index=False)"
      ],
      "execution_count": null,
      "outputs": []
    },
    {
      "cell_type": "code",
      "metadata": {
        "colab": {
          "background_save": true
        },
        "id": "emfz2ybgBocM"
      },
      "source": [
        "X_valid.head()"
      ],
      "execution_count": null,
      "outputs": []
    },
    {
      "cell_type": "code",
      "metadata": {
        "colab": {
          "background_save": true
        },
        "id": "mQvVmM6mBqd_"
      },
      "source": [
        "X_test.head()"
      ],
      "execution_count": null,
      "outputs": []
    },
    {
      "cell_type": "code",
      "metadata": {
        "colab": {
          "background_save": true
        },
        "id": "kB_J_vbjCIsL"
      },
      "source": [
        "X_valid.shape"
      ],
      "execution_count": null,
      "outputs": []
    },
    {
      "cell_type": "code",
      "metadata": {
        "colab": {
          "background_save": true
        },
        "id": "WW6i_67-CL8c"
      },
      "source": [
        "X_test.shape"
      ],
      "execution_count": null,
      "outputs": []
    },
    {
      "cell_type": "code",
      "metadata": {
        "colab": {
          "background_save": true
        },
        "id": "ghfktAkUCNf9"
      },
      "source": [
        "y_valid.shape"
      ],
      "execution_count": null,
      "outputs": []
    },
    {
      "cell_type": "code",
      "metadata": {
        "colab": {
          "background_save": true
        },
        "id": "oNUNn4iZGeLj"
      },
      "source": [
        ""
      ],
      "execution_count": null,
      "outputs": []
    }
  ]
}